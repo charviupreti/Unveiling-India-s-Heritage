{
 "cells": [
  {
   "cell_type": "code",
   "execution_count": 1,
   "metadata": {},
   "outputs": [],
   "source": [
    "# Ran once and formed the \\data1\\split folder.\n",
    "# import os\n",
    "# import shutil\n",
    "# import random\n",
    "\n",
    "# # Define data directory\n",
    "# data_dir = \"data1/Indian-monuments/images\"\n",
    "# train_dir = \"data1/split/Indian-monuments/images/train\"\n",
    "# val_dir = \"data1/split/Indian-monuments/images/validation\"\n",
    "# test_dir = \"data1/split/Indian-monuments/images/test\"\n",
    "\n",
    "# # Create directories for train, validation, and test sets if they don't exist\n",
    "# os.makedirs(train_dir, exist_ok=True)\n",
    "# os.makedirs(val_dir, exist_ok=True)\n",
    "# os.makedirs(test_dir, exist_ok=True)\n",
    "\n",
    "# # Define the ratio for splitting the data\n",
    "# train_ratio = 0.8\n",
    "# val_ratio = 0.1\n",
    "# test_ratio = 0.1\n",
    "\n",
    "# # Get the list of class directories\n",
    "# class_directories = [\n",
    "#     directory\n",
    "#     for directory in os.listdir(data_dir)\n",
    "#     if os.path.isdir(os.path.join(data_dir, directory))\n",
    "# ]\n",
    "\n",
    "# # Iterate over each class directory\n",
    "# for class_dir in class_directories:\n",
    "#     # Get the list of image filenames for the current class\n",
    "#     class_images = os.listdir(os.path.join(data_dir, class_dir))\n",
    "#     # Shuffle the list of image filenames\n",
    "#     random.shuffle(class_images)\n",
    "\n",
    "#     # Calculate the number of images for each subset\n",
    "#     num_train = int(len(class_images) * train_ratio)\n",
    "#     num_val = int(len(class_images) * val_ratio)\n",
    "#     num_test = len(class_images) - num_train - num_val\n",
    "\n",
    "#     # Split the images into train, validation, and test sets\n",
    "#     train_images = class_images[:num_train]\n",
    "#     val_images = class_images[num_train : num_train + num_val]\n",
    "#     test_images = class_images[num_train + num_val :]\n",
    "\n",
    "#     # Copy images to their respective directories\n",
    "#     for image in train_images:\n",
    "#         src = os.path.join(data_dir, class_dir, image)\n",
    "#         dst = os.path.join(train_dir, class_dir, image)\n",
    "#         os.makedirs(os.path.dirname(dst), exist_ok=True)\n",
    "#         shutil.copyfile(src, dst)\n",
    "\n",
    "#     for image in val_images:\n",
    "#         src = os.path.join(data_dir, class_dir, image)\n",
    "#         dst = os.path.join(val_dir, class_dir, image)\n",
    "#         os.makedirs(os.path.dirname(dst), exist_ok=True)\n",
    "#         shutil.copyfile(src, dst)\n",
    "\n",
    "#     for image in test_images:\n",
    "#         src = os.path.join(data_dir, class_dir, image)\n",
    "#         dst = os.path.join(test_dir, class_dir, image)\n",
    "#         os.makedirs(os.path.dirname(dst), exist_ok=True)\n",
    "#         shutil.copyfile(src, dst)\n",
    "\n",
    "# # Now you can use the directories train_dir, val_dir, and test_dir for training, validation, and testing respectively."
   ]
  },
  {
   "cell_type": "code",
   "execution_count": 2,
   "metadata": {},
   "outputs": [],
   "source": [
    "import os\n",
    "from tensorflow.keras.preprocessing.image import ImageDataGenerator\n",
    "from tensorflow.keras.layers import GlobalAveragePooling2D, Dense\n",
    "from tensorflow.keras.models import Sequential\n",
    "from tensorflow.keras.applications import MobileNetV2\n",
    "from tensorflow.keras.callbacks import EarlyStopping\n",
    "\n",
    "# import tensorflow_addons as tfa\n",
    "import matplotlib.pyplot as plt\n",
    "import numpy as np\n",
    "from pathlib import Path\n",
    "import tensorflow as tf\n",
    "import pandas as pd"
   ]
  },
  {
   "cell_type": "code",
   "execution_count": 3,
   "metadata": {},
   "outputs": [],
   "source": [
    "train_dir = Path(\"data1/split/Indian-monuments/images/train\")\n",
    "train_filepaths = (\n",
    "    list(train_dir.glob(\"**/*.jpg\"))\n",
    "    + list(train_dir.glob(\"*.jpeg\"))\n",
    "    + list(train_dir.glob(\"*.png\"))\n",
    ")\n",
    "val_dir = Path(\"data1/split/Indian-monuments/images/validation\")\n",
    "val_filepaths = (\n",
    "    list(val_dir.glob(\"**/*.jpg\"))\n",
    "    + list(val_dir.glob(\"*.jpeg\"))\n",
    "    + list(val_dir.glob(\"*.png\"))\n",
    ")\n",
    "test_dir = Path(\"data1/split/Indian-monuments/images/test\")\n",
    "test_filepaths = (\n",
    "    list(test_dir.glob(\"**/*.jpg\"))\n",
    "    + list(test_dir.glob(\"*.jpeg\"))\n",
    "    + list(test_dir.glob(\"*.png\"))\n",
    ")"
   ]
  },
  {
   "cell_type": "code",
   "execution_count": 4,
   "metadata": {},
   "outputs": [
    {
     "name": "stdout",
     "output_type": "stream",
     "text": [
      "['Ajanta Caves', 'Ajanta Caves', 'Ajanta Caves', 'Ajanta Caves', 'Ajanta Caves', 'Ajanta Caves', 'Ajanta Caves', 'Ajanta Caves', 'Ajanta Caves', 'Ajanta Caves', 'Ajanta Caves', 'Ajanta Caves', 'Ajanta Caves', 'Ajanta Caves', 'Ajanta Caves', 'Ajanta Caves', 'Ajanta Caves', 'Ajanta Caves', 'Ajanta Caves', 'Ajanta Caves', 'Ajanta Caves', 'Ajanta Caves', 'Ajanta Caves', 'Ajanta Caves', 'Ajanta Caves', 'Ajanta Caves', 'Ajanta Caves', 'Ajanta Caves', 'Ajanta Caves', 'Ajanta Caves', 'Ajanta Caves', 'Ajanta Caves', 'Ajanta Caves', 'Ajanta Caves', 'Ajanta Caves', 'Ajanta Caves', 'Ajanta Caves', 'Ajanta Caves', 'Ajanta Caves', 'Ajanta Caves', 'Ajanta Caves', 'Ajanta Caves', 'Ajanta Caves', 'Ajanta Caves', 'Ajanta Caves', 'Ajanta Caves', 'Ajanta Caves', 'Ajanta Caves', 'Ajanta Caves', 'Ajanta Caves', 'Ajanta Caves', 'Ajanta Caves', 'Ajanta Caves', 'Ajanta Caves', 'Ajanta Caves', 'Ajanta Caves', 'Ajanta Caves', 'Ajanta Caves', 'Ajanta Caves', 'Ajanta Caves', 'Ajanta Caves', 'Ajanta Caves', 'Ajanta Caves', 'Ajanta Caves', 'Ajanta Caves', 'Ajanta Caves', 'Ajanta Caves', 'Ajanta Caves', 'Ajanta Caves', 'Ajanta Caves', 'Ajanta Caves', 'Ajanta Caves', 'Ajanta Caves', 'Ajanta Caves', 'Ajanta Caves', 'Ajanta Caves', 'alai_darwaza', 'alai_darwaza', 'alai_darwaza', 'alai_darwaza', 'alai_darwaza', 'alai_darwaza', 'alai_darwaza', 'alai_darwaza', 'alai_darwaza', 'alai_darwaza', 'alai_darwaza', 'alai_darwaza', 'alai_darwaza', 'alai_darwaza', 'alai_darwaza', 'alai_darwaza', 'alai_darwaza', 'alai_darwaza', 'alai_darwaza', 'alai_darwaza', 'alai_darwaza', 'alai_darwaza', 'alai_darwaza', 'alai_darwaza', 'alai_darwaza', 'alai_darwaza', 'alai_darwaza', 'alai_darwaza', 'alai_darwaza', 'alai_darwaza', 'alai_darwaza', 'alai_darwaza', 'alai_darwaza', 'alai_darwaza', 'alai_darwaza', 'alai_darwaza', 'alai_darwaza', 'alai_darwaza', 'alai_darwaza', 'alai_darwaza', 'alai_darwaza', 'alai_darwaza', 'alai_darwaza', 'alai_darwaza', 'alai_darwaza', 'alai_darwaza', 'alai_darwaza', 'alai_darwaza', 'alai_darwaza', 'alai_darwaza', 'alai_darwaza', 'alai_darwaza', 'alai_darwaza', 'alai_darwaza', 'alai_darwaza', 'alai_darwaza', 'alai_minar', 'alai_minar', 'alai_minar', 'alai_minar', 'alai_minar', 'alai_minar', 'alai_minar', 'alai_minar', 'alai_minar', 'alai_minar', 'alai_minar', 'alai_minar', 'alai_minar', 'alai_minar', 'alai_minar', 'alai_minar', 'alai_minar', 'alai_minar', 'alai_minar', 'alai_minar', 'alai_minar', 'alai_minar', 'alai_minar', 'alai_minar', 'alai_minar', 'alai_minar', 'alai_minar', 'alai_minar', 'alai_minar', 'alai_minar', 'alai_minar', 'alai_minar', 'alai_minar', 'alai_minar', 'alai_minar', 'alai_minar', 'alai_minar', 'alai_minar', 'alai_minar', 'alai_minar', 'alai_minar', 'alai_minar', 'alai_minar', 'alai_minar', 'alai_minar', 'alai_minar', 'alai_minar', 'alai_minar', 'alai_minar', 'alai_minar', 'alai_minar', 'alai_minar', 'alai_minar', 'alai_minar', 'alai_minar', 'alai_minar', 'alai_minar', 'alai_minar', 'alai_minar', 'alai_minar', 'alai_minar', 'alai_minar', 'alai_minar', 'alai_minar', 'alai_minar', 'alai_minar', 'alai_minar', 'alai_minar', 'alai_minar', 'alai_minar', 'alai_minar', 'alai_minar', 'alai_minar', 'alai_minar', 'alai_minar', 'alai_minar', 'alai_minar', 'alai_minar', 'alai_minar', 'alai_minar', 'alai_minar', 'alai_minar', 'alai_minar', 'alai_minar', 'alai_minar', 'alai_minar', 'alai_minar', 'alai_minar', 'alai_minar', 'alai_minar', 'alai_minar', 'alai_minar', 'alai_minar', 'alai_minar', 'alai_minar', 'alai_minar', 'alai_minar', 'alai_minar', 'alai_minar', 'alai_minar', 'alai_minar', 'alai_minar', 'alai_minar', 'alai_minar', 'alai_minar', 'alai_minar', 'alai_minar', 'alai_minar', 'basilica_of_bom_jesus', 'basilica_of_bom_jesus', 'basilica_of_bom_jesus', 'basilica_of_bom_jesus', 'basilica_of_bom_jesus', 'basilica_of_bom_jesus', 'basilica_of_bom_jesus', 'basilica_of_bom_jesus', 'basilica_of_bom_jesus', 'basilica_of_bom_jesus', 'basilica_of_bom_jesus', 'basilica_of_bom_jesus', 'basilica_of_bom_jesus', 'basilica_of_bom_jesus', 'basilica_of_bom_jesus', 'basilica_of_bom_jesus', 'basilica_of_bom_jesus', 'basilica_of_bom_jesus', 'basilica_of_bom_jesus', 'basilica_of_bom_jesus', 'basilica_of_bom_jesus', 'basilica_of_bom_jesus', 'basilica_of_bom_jesus', 'basilica_of_bom_jesus', 'basilica_of_bom_jesus', 'basilica_of_bom_jesus', 'basilica_of_bom_jesus', 'basilica_of_bom_jesus', 'basilica_of_bom_jesus', 'basilica_of_bom_jesus', 'basilica_of_bom_jesus', 'basilica_of_bom_jesus', 'basilica_of_bom_jesus', 'basilica_of_bom_jesus', 'basilica_of_bom_jesus', 'basilica_of_bom_jesus', 'basilica_of_bom_jesus', 'basilica_of_bom_jesus', 'basilica_of_bom_jesus', 'basilica_of_bom_jesus', 'basilica_of_bom_jesus', 'basilica_of_bom_jesus', 'basilica_of_bom_jesus', 'basilica_of_bom_jesus', 'basilica_of_bom_jesus', 'basilica_of_bom_jesus', 'basilica_of_bom_jesus', 'basilica_of_bom_jesus', 'basilica_of_bom_jesus', 'basilica_of_bom_jesus', 'basilica_of_bom_jesus', 'basilica_of_bom_jesus', 'basilica_of_bom_jesus', 'basilica_of_bom_jesus', 'basilica_of_bom_jesus', 'basilica_of_bom_jesus', 'basilica_of_bom_jesus', 'basilica_of_bom_jesus', 'basilica_of_bom_jesus', 'basilica_of_bom_jesus', 'basilica_of_bom_jesus', 'basilica_of_bom_jesus', 'basilica_of_bom_jesus', 'basilica_of_bom_jesus', 'basilica_of_bom_jesus', 'basilica_of_bom_jesus', 'basilica_of_bom_jesus', 'basilica_of_bom_jesus', 'basilica_of_bom_jesus', 'basilica_of_bom_jesus', 'basilica_of_bom_jesus', 'basilica_of_bom_jesus', 'basilica_of_bom_jesus', 'basilica_of_bom_jesus', 'basilica_of_bom_jesus', 'basilica_of_bom_jesus', 'basilica_of_bom_jesus', 'basilica_of_bom_jesus', 'basilica_of_bom_jesus', 'basilica_of_bom_jesus', 'Charar-E- Sharif', 'Charar-E- Sharif', 'Charar-E- Sharif', 'Charar-E- Sharif', 'Charar-E- Sharif', 'Charar-E- Sharif', 'Charar-E- Sharif', 'Charar-E- Sharif', 'Charar-E- Sharif', 'Charar-E- Sharif', 'Charar-E- Sharif', 'Charar-E- Sharif', 'Charar-E- Sharif', 'Charar-E- Sharif', 'Charar-E- Sharif', 'Charar-E- Sharif', 'Charar-E- Sharif', 'Charar-E- Sharif', 'Charar-E- Sharif', 'Charar-E- Sharif', 'Charar-E- Sharif', 'Charar-E- Sharif', 'Charar-E- Sharif', 'Charar-E- Sharif', 'Charar-E- Sharif', 'Charar-E- Sharif', 'Charar-E- Sharif', 'Charar-E- Sharif', 'Charar-E- Sharif', 'Charar-E- Sharif', 'Charar-E- Sharif', 'Charar-E- Sharif', 'Charar-E- Sharif', 'Charar-E- Sharif', 'Charar-E- Sharif', 'Charar-E- Sharif', 'Charar-E- Sharif', 'Charar-E- Sharif', 'Charar-E- Sharif', 'Charar-E- Sharif', 'Charar-E- Sharif', 'Charar-E- Sharif', 'Charar-E- Sharif', 'Charar-E- Sharif', 'Charar-E- Sharif', 'Charar-E- Sharif', 'Charar-E- Sharif', 'Charar-E- Sharif', 'Charar-E- Sharif', 'Charar-E- Sharif', 'Charar-E- Sharif', 'Charar-E- Sharif', 'Charar-E- Sharif', 'Charar-E- Sharif', 'Charar-E- Sharif', 'Charar-E- Sharif', 'Charar-E- Sharif', 'Charar-E- Sharif', 'Charar-E- Sharif', 'Charar-E- Sharif', 'Charar-E- Sharif', 'Charar-E- Sharif', 'Charar-E- Sharif', 'Charar-E- Sharif', 'Charar-E- Sharif', 'Charar-E- Sharif', 'Charar-E- Sharif', 'Charar-E- Sharif', 'Charar-E- Sharif', 'Charar-E- Sharif', 'Charar-E- Sharif', 'Charar-E- Sharif', 'Charar-E- Sharif', 'Charar-E- Sharif', 'Charar-E- Sharif', 'Charar-E- Sharif', 'Charar-E- Sharif', 'Charar-E- Sharif', 'Charar-E- Sharif', 'Charar-E- Sharif', 'Charar-E- Sharif', 'Charar-E- Sharif', 'Charar-E- Sharif', 'Charar-E- Sharif', 'Charar-E- Sharif', 'Charar-E- Sharif', 'Charar-E- Sharif', 'Charar-E- Sharif', 'Charar-E- Sharif', 'Charar-E- Sharif', 'Charar-E- Sharif', 'Charar-E- Sharif', 'Charar-E- Sharif', 'Charar-E- Sharif', 'Charar-E- Sharif', 'Charar-E- Sharif', 'Charar-E- Sharif', 'Charar-E- Sharif', 'Charar-E- Sharif', 'Charar-E- Sharif', 'Charar-E- Sharif', 'Charar-E- Sharif', 'Charar-E- Sharif', 'Charar-E- Sharif', 'Charar-E- Sharif', 'Charar-E- Sharif', 'Charar-E- Sharif', 'Charar-E- Sharif', 'Charar-E- Sharif', 'Charar-E- Sharif', 'Charar-E- Sharif', 'Charar-E- Sharif', 'Charar-E- Sharif', 'Charar-E- Sharif', 'Charar-E- Sharif', 'Charar-E- Sharif', 'Charar-E- Sharif', 'Charar-E- Sharif', 'Charar-E- Sharif', 'Charar-E- Sharif', 'Charar-E- Sharif', 'Charar-E- Sharif', 'Charar-E- Sharif', 'Charar-E- Sharif', 'Charar-E- Sharif', 'Charar-E- Sharif', 'Charar-E- Sharif', 'Charar-E- Sharif', 'Charar-E- Sharif', 'Charar-E- Sharif', 'Charar-E- Sharif', 'Charar-E- Sharif', 'Charar-E- Sharif', 'Charar-E- Sharif', 'charminar', 'charminar', 'charminar', 'charminar', 'charminar', 'charminar', 'charminar', 'charminar', 'charminar', 'charminar', 'charminar', 'charminar', 'charminar', 'charminar', 'charminar', 'charminar', 'charminar', 'charminar', 'charminar', 'charminar', 'charminar', 'charminar', 'charminar', 'charminar', 'charminar', 'charminar', 'charminar', 'charminar', 'charminar', 'charminar', 'charminar', 'charminar', 'charminar', 'charminar', 'charminar', 'charminar', 'charminar', 'charminar', 'charminar', 'charminar', 'charminar', 'charminar', 'charminar', 'charminar', 'charminar', 'charminar', 'charminar', 'charminar', 'charminar', 'charminar', 'charminar', 'charminar', 'charminar', 'charminar', 'charminar', 'charminar', 'charminar', 'charminar', 'charminar', 'charminar', 'charminar', 'charminar', 'charminar', 'charminar', 'charminar', 'charminar', 'charminar', 'charminar', 'charminar', 'charminar', 'charminar', 'charminar', 'charminar', 'charminar', 'charminar', 'charminar', 'charminar', 'charminar', 'charminar', 'charminar', 'charminar', 'charminar', 'charminar', 'charminar', 'charminar', 'charminar', 'charminar', 'charminar', 'charminar', 'charminar', 'charminar', 'charminar', 'charminar', 'charminar', 'charminar', 'charminar', 'charminar', 'charminar', 'charminar', 'charminar', 'charminar', 'charminar', 'charminar', 'charminar', 'charminar', 'charminar', 'charminar', 'charminar', 'charminar', 'charminar', 'charminar', 'charminar', 'charminar', 'charminar', 'charminar', 'charminar', 'charminar', 'charminar', 'charminar', 'charminar', 'charminar', 'charminar', 'charminar', 'charminar', 'charminar', 'charminar', 'charminar', 'charminar', 'charminar', 'charminar', 'charminar', 'charminar', 'charminar', 'charminar', 'charminar', 'charminar', 'charminar', 'charminar', 'charminar', 'charminar', 'charminar', 'charminar', 'charminar', 'charminar', 'charminar', 'charminar', 'charminar', 'charminar', 'charminar', 'charminar', 'charminar', 'charminar', 'charminar', 'charminar', 'charminar', 'charminar', 'charminar', 'charminar', 'charminar', 'charminar', 'charminar', 'charminar', 'charminar', 'charminar', 'charminar', 'charminar', 'charminar', 'charminar', 'charminar', 'charminar', 'Chhota_Imambara', 'Chhota_Imambara', 'Chhota_Imambara', 'Chhota_Imambara', 'Chhota_Imambara', 'Chhota_Imambara', 'Chhota_Imambara', 'Chhota_Imambara', 'Chhota_Imambara', 'Chhota_Imambara', 'Chhota_Imambara', 'Chhota_Imambara', 'Chhota_Imambara', 'Chhota_Imambara', 'Chhota_Imambara', 'Chhota_Imambara', 'Chhota_Imambara', 'Chhota_Imambara', 'Chhota_Imambara', 'Chhota_Imambara', 'Chhota_Imambara', 'Chhota_Imambara', 'Chhota_Imambara', 'Chhota_Imambara', 'Chhota_Imambara', 'Chhota_Imambara', 'Chhota_Imambara', 'Chhota_Imambara', 'Chhota_Imambara', 'Chhota_Imambara', 'Chhota_Imambara', 'Chhota_Imambara', 'Chhota_Imambara', 'Chhota_Imambara', 'Chhota_Imambara', 'Chhota_Imambara', 'Chhota_Imambara', 'Chhota_Imambara', 'Chhota_Imambara', 'Chhota_Imambara', 'Chhota_Imambara', 'Chhota_Imambara', 'Chhota_Imambara', 'Chhota_Imambara', 'Chhota_Imambara', 'Chhota_Imambara', 'Chhota_Imambara', 'Chhota_Imambara', 'Chhota_Imambara', 'Chhota_Imambara', 'Chhota_Imambara', 'Chhota_Imambara', 'Chhota_Imambara', 'Chhota_Imambara', 'Chhota_Imambara', 'Chhota_Imambara', 'Chhota_Imambara', 'Chhota_Imambara', 'Chhota_Imambara', 'Chhota_Imambara', 'Chhota_Imambara', 'Chhota_Imambara', 'Chhota_Imambara', 'Chhota_Imambara', 'Chhota_Imambara', 'Chhota_Imambara', 'Chhota_Imambara', 'Chhota_Imambara', 'Chhota_Imambara', 'Chhota_Imambara', 'Chhota_Imambara', 'Chhota_Imambara', 'Chhota_Imambara', 'Chhota_Imambara', 'Chhota_Imambara', 'Chhota_Imambara', 'Chhota_Imambara', 'Chhota_Imambara', 'Chhota_Imambara', 'Chhota_Imambara', 'Chhota_Imambara', 'Chhota_Imambara', 'Chhota_Imambara', 'Chhota_Imambara', 'Chhota_Imambara', 'Chhota_Imambara', 'Chhota_Imambara', 'Chhota_Imambara', 'Ellora Caves', 'Ellora Caves', 'Ellora Caves', 'Ellora Caves', 'Ellora Caves', 'Ellora Caves', 'Ellora Caves', 'Ellora Caves', 'Ellora Caves', 'Ellora Caves', 'Ellora Caves', 'Ellora Caves', 'Ellora Caves', 'Ellora Caves', 'Ellora Caves', 'Ellora Caves', 'Ellora Caves', 'Ellora Caves', 'Ellora Caves', 'Ellora Caves', 'Ellora Caves', 'Ellora Caves', 'Ellora Caves', 'Ellora Caves', 'Ellora Caves', 'Ellora Caves', 'Ellora Caves', 'Ellora Caves', 'Ellora Caves', 'Ellora Caves', 'Ellora Caves', 'Ellora Caves', 'Ellora Caves', 'Ellora Caves', 'Ellora Caves', 'Ellora Caves', 'Ellora Caves', 'Ellora Caves', 'Ellora Caves', 'Ellora Caves', 'Ellora Caves', 'Ellora Caves', 'Ellora Caves', 'Ellora Caves', 'Ellora Caves', 'Ellora Caves', 'Ellora Caves', 'Ellora Caves', 'Ellora Caves', 'Ellora Caves', 'Ellora Caves', 'Ellora Caves', 'Ellora Caves', 'Ellora Caves', 'Ellora Caves', 'Ellora Caves', 'Ellora Caves', 'Ellora Caves', 'Ellora Caves', 'Ellora Caves', 'Ellora Caves', 'Ellora Caves', 'Ellora Caves', 'Ellora Caves', 'Ellora Caves', 'Ellora Caves', 'Ellora Caves', 'Ellora Caves', 'Ellora Caves', 'Ellora Caves', 'Ellora Caves', 'Ellora Caves', 'Ellora Caves', 'Ellora Caves', 'Ellora Caves', 'Ellora Caves', 'Ellora Caves', 'Ellora Caves', 'Ellora Caves', 'Ellora Caves', 'Ellora Caves', 'Ellora Caves', 'Ellora Caves', 'Ellora Caves', 'Ellora Caves', 'Ellora Caves', 'Ellora Caves', 'Fatehpur Sikri', 'Fatehpur Sikri', 'Fatehpur Sikri', 'Fatehpur Sikri', 'Fatehpur Sikri', 'Fatehpur Sikri', 'Fatehpur Sikri', 'Fatehpur Sikri', 'Fatehpur Sikri', 'Fatehpur Sikri', 'Fatehpur Sikri', 'Fatehpur Sikri', 'Fatehpur Sikri', 'Fatehpur Sikri', 'Fatehpur Sikri', 'Fatehpur Sikri', 'Fatehpur Sikri', 'Fatehpur Sikri', 'Fatehpur Sikri', 'Fatehpur Sikri', 'Fatehpur Sikri', 'Fatehpur Sikri', 'Fatehpur Sikri', 'Fatehpur Sikri', 'Fatehpur Sikri', 'Fatehpur Sikri', 'Fatehpur Sikri', 'Fatehpur Sikri', 'Fatehpur Sikri', 'Fatehpur Sikri', 'Fatehpur Sikri', 'Fatehpur Sikri', 'Fatehpur Sikri', 'Gateway of India', 'Gateway of India', 'Gateway of India', 'Gateway of India', 'Gateway of India', 'Gateway of India', 'Gateway of India', 'Gateway of India', 'Gateway of India', 'Gateway of India', 'Gateway of India', 'Gateway of India', 'Gateway of India', 'Gateway of India', 'Gateway of India', 'Gateway of India', 'Gateway of India', 'Gateway of India', 'Gateway of India', 'Gateway of India', 'Gateway of India', 'Gateway of India', 'Gateway of India', 'Gateway of India', 'Gateway of India', 'Gateway of India', 'Gateway of India', 'Gateway of India', 'Gateway of India', 'Gateway of India', 'Gateway of India', 'Gateway of India', 'Gateway of India', 'Gateway of India', 'Gateway of India', 'Gateway of India', 'Gateway of India', 'Gateway of India', 'Gateway of India', 'Gateway of India', 'Gateway of India', 'Gateway of India', 'Gateway of India', 'Gateway of India', 'Gateway of India', 'Gateway of India', 'Gateway of India', 'Gateway of India', 'Gateway of India', 'Gateway of India', 'Gateway of India', 'Gateway of India', 'Gateway of India', 'Gateway of India', 'Gateway of India', 'Gateway of India', 'Gateway of India', 'Gateway of India', 'Gateway of India', 'Gateway of India', 'Gateway of India', 'Gateway of India', 'Gateway of India', 'Gateway of India', 'Gateway of India', 'Gateway of India', 'Gateway of India', 'Gateway of India', 'Gateway of India', 'Gateway of India', 'Gateway of India', 'Gateway of India', 'Gateway of India', 'Gateway of India', 'Gateway of India', 'Gateway of India', 'Gateway of India', 'Gateway of India', 'Gateway of India', 'Gateway of India', 'Gateway of India', 'Gateway of India', 'Gateway of India', 'Gateway of India', 'Gateway of India', 'Gateway of India', 'Gateway of India', 'Gateway of India', 'Gateway of India', 'Gateway of India', 'Gateway of India', 'Gateway of India', 'Gateway of India', 'Gateway of India', 'Gateway of India', 'Gateway of India', 'Gateway of India', 'Gateway of India', 'Gateway of India', 'Gateway of India', 'Gateway of India', 'Gateway of India', 'Gateway of India', 'Gateway of India', 'Gateway of India', 'Gateway of India', 'Gateway of India', 'Gateway of India', 'Gateway of India', 'Gateway of India', 'Gateway of India', 'Gateway of India', 'Gateway of India', 'Gateway of India', 'Gateway of India', 'Gateway of India', 'Gateway of India', 'Gateway of India', 'Gateway of India', 'Gateway of India', 'Gateway of India', 'Gateway of India', 'Gateway of India', 'Gateway of India', 'Gateway of India', 'Gateway of India', 'Gateway of India', 'Gateway of India', 'Gateway of India', 'Gateway of India', 'Gateway of India', 'Gateway of India', 'Gateway of India', 'Gateway of India', 'Gateway of India', 'Gateway of India', 'Gateway of India', 'Gateway of India', 'Gateway of India', 'Gateway of India', 'Gateway of India', 'Gateway of India', 'Gateway of India', 'Gateway of India', 'Gateway of India', 'Gateway of India', 'Gateway of India', 'Gateway of India', 'Gateway of India', 'Gateway of India', 'Gateway of India', 'Gateway of India', 'Gateway of India', 'Gateway of India', 'Gateway of India', 'Gateway of India', 'Gateway of India', 'Gateway of India', 'Gateway of India', 'Gateway of India', 'Gateway of India', 'Gateway of India', 'golden temple', 'golden temple', 'golden temple', 'golden temple', 'golden temple', 'golden temple', 'golden temple', 'golden temple', 'golden temple', 'golden temple', 'golden temple', 'golden temple', 'golden temple', 'golden temple', 'golden temple', 'golden temple', 'golden temple', 'golden temple', 'golden temple', 'golden temple', 'golden temple', 'golden temple', 'golden temple', 'golden temple', 'golden temple', 'golden temple', 'golden temple', 'golden temple', 'golden temple', 'golden temple', 'golden temple', 'golden temple', 'golden temple', 'golden temple', 'golden temple', 'golden temple', 'golden temple', 'golden temple', 'golden temple', 'golden temple', 'golden temple', 'golden temple', 'golden temple', 'golden temple', 'golden temple', 'golden temple', 'golden temple', 'golden temple', 'golden temple', 'golden temple', 'golden temple', 'golden temple', 'golden temple', 'golden temple', 'golden temple', 'golden temple', 'golden temple', 'golden temple', 'golden temple', 'golden temple', 'golden temple', 'golden temple', 'hawa mahal pics', 'hawa mahal pics', 'hawa mahal pics', 'hawa mahal pics', 'hawa mahal pics', 'hawa mahal pics', 'hawa mahal pics', 'hawa mahal pics', 'hawa mahal pics', 'hawa mahal pics', 'hawa mahal pics', 'hawa mahal pics', 'hawa mahal pics', 'hawa mahal pics', 'hawa mahal pics', 'hawa mahal pics', 'hawa mahal pics', 'hawa mahal pics', 'hawa mahal pics', 'hawa mahal pics', 'hawa mahal pics', 'hawa mahal pics', 'hawa mahal pics', 'hawa mahal pics', 'hawa mahal pics', 'hawa mahal pics', 'hawa mahal pics', 'hawa mahal pics', 'hawa mahal pics', 'hawa mahal pics', 'hawa mahal pics', 'hawa mahal pics', 'hawa mahal pics', 'hawa mahal pics', 'hawa mahal pics', 'hawa mahal pics', 'hawa mahal pics', 'hawa mahal pics', 'hawa mahal pics', 'hawa mahal pics', 'hawa mahal pics', 'hawa mahal pics', 'hawa mahal pics', 'hawa mahal pics', 'hawa mahal pics', 'hawa mahal pics', 'hawa mahal pics', 'hawa mahal pics', 'hawa mahal pics', 'hawa mahal pics', 'hawa mahal pics', 'hawa mahal pics', 'hawa mahal pics', 'hawa mahal pics', 'hawa mahal pics', 'hawa mahal pics', 'hawa mahal pics', 'hawa mahal pics', 'hawa mahal pics', 'hawa mahal pics', 'hawa mahal pics', 'hawa mahal pics', 'hawa mahal pics', 'hawa mahal pics', 'hawa mahal pics', 'hawa mahal pics', 'hawa mahal pics', 'hawa mahal pics', 'Humayun_s Tomb', 'Humayun_s Tomb', 'Humayun_s Tomb', 'Humayun_s Tomb', 'Humayun_s Tomb', 'Humayun_s Tomb', 'Humayun_s Tomb', 'Humayun_s Tomb', 'Humayun_s Tomb', 'Humayun_s Tomb', 'Humayun_s Tomb', 'Humayun_s Tomb', 'Humayun_s Tomb', 'Humayun_s Tomb', 'Humayun_s Tomb', 'Humayun_s Tomb', 'Humayun_s Tomb', 'Humayun_s Tomb', 'Humayun_s Tomb', 'Humayun_s Tomb', 'Humayun_s Tomb', 'Humayun_s Tomb', 'Humayun_s Tomb', 'Humayun_s Tomb', 'Humayun_s Tomb', 'Humayun_s Tomb', 'Humayun_s Tomb', 'Humayun_s Tomb', 'Humayun_s Tomb', 'Humayun_s Tomb', 'Humayun_s Tomb', 'Humayun_s Tomb', 'Humayun_s Tomb', 'Humayun_s Tomb', 'Humayun_s Tomb', 'Humayun_s Tomb', 'Humayun_s Tomb', 'Humayun_s Tomb', 'Humayun_s Tomb', 'Humayun_s Tomb', 'Humayun_s Tomb', 'Humayun_s Tomb', 'Humayun_s Tomb', 'Humayun_s Tomb', 'Humayun_s Tomb', 'Humayun_s Tomb', 'Humayun_s Tomb', 'Humayun_s Tomb', 'Humayun_s Tomb', 'Humayun_s Tomb', 'Humayun_s Tomb', 'Humayun_s Tomb', 'Humayun_s Tomb', 'Humayun_s Tomb', 'Humayun_s Tomb', 'Humayun_s Tomb', 'Humayun_s Tomb', 'Humayun_s Tomb', 'Humayun_s Tomb', 'Humayun_s Tomb', 'Humayun_s Tomb', 'Humayun_s Tomb', 'Humayun_s Tomb', 'Humayun_s Tomb', 'Humayun_s Tomb', 'Humayun_s Tomb', 'Humayun_s Tomb', 'Humayun_s Tomb', 'Humayun_s Tomb', 'Humayun_s Tomb', 'Humayun_s Tomb', 'Humayun_s Tomb', 'Humayun_s Tomb', 'Humayun_s Tomb', 'Humayun_s Tomb', 'Humayun_s Tomb', 'Humayun_s Tomb', 'Humayun_s Tomb', 'Humayun_s Tomb', 'Humayun_s Tomb', 'Humayun_s Tomb', 'Humayun_s Tomb', 'Humayun_s Tomb', 'Humayun_s Tomb', 'Humayun_s Tomb', 'Humayun_s Tomb', 'Humayun_s Tomb', 'Humayun_s Tomb', 'Humayun_s Tomb', 'Humayun_s Tomb', 'Humayun_s Tomb', 'Humayun_s Tomb', 'Humayun_s Tomb', 'Humayun_s Tomb', 'Humayun_s Tomb', 'Humayun_s Tomb', 'Humayun_s Tomb', 'Humayun_s Tomb', 'Humayun_s Tomb', 'Humayun_s Tomb', 'Humayun_s Tomb', 'Humayun_s Tomb', 'Humayun_s Tomb', 'Humayun_s Tomb', 'Humayun_s Tomb', 'Humayun_s Tomb', 'Humayun_s Tomb', 'Humayun_s Tomb', 'Humayun_s Tomb', 'Humayun_s Tomb', 'Humayun_s Tomb', 'Humayun_s Tomb', 'Humayun_s Tomb', 'Humayun_s Tomb', 'Humayun_s Tomb', 'Humayun_s Tomb', 'Humayun_s Tomb', 'Humayun_s Tomb', 'Humayun_s Tomb', 'Humayun_s Tomb', 'Humayun_s Tomb', 'Humayun_s Tomb', 'Humayun_s Tomb', 'Humayun_s Tomb', 'Humayun_s Tomb', 'Humayun_s Tomb', 'Humayun_s Tomb', 'Humayun_s Tomb', 'Humayun_s Tomb', 'Humayun_s Tomb', 'Humayun_s Tomb', 'Humayun_s Tomb', 'India gate pics', 'India gate pics', 'India gate pics', 'India gate pics', 'India gate pics', 'India gate pics', 'India gate pics', 'India gate pics', 'India gate pics', 'India gate pics', 'India gate pics', 'India gate pics', 'India gate pics', 'India gate pics', 'India gate pics', 'India gate pics', 'India gate pics', 'India gate pics', 'India gate pics', 'India gate pics', 'India gate pics', 'India gate pics', 'India gate pics', 'India gate pics', 'India gate pics', 'India gate pics', 'India gate pics', 'India gate pics', 'India gate pics', 'India gate pics', 'India gate pics', 'India gate pics', 'India gate pics', 'India gate pics', 'India gate pics', 'India gate pics', 'India gate pics', 'India gate pics', 'India gate pics', 'India gate pics', 'India gate pics', 'India gate pics', 'India gate pics', 'India gate pics', 'India gate pics', 'India gate pics', 'India gate pics', 'India gate pics', 'India gate pics', 'India gate pics', 'India gate pics', 'India gate pics', 'India gate pics', 'India gate pics', 'India gate pics', 'India gate pics', 'India gate pics', 'India gate pics', 'India gate pics', 'India gate pics', 'India gate pics', 'India gate pics', 'India gate pics', 'iron_pillar', 'iron_pillar', 'iron_pillar', 'iron_pillar', 'iron_pillar', 'iron_pillar', 'iron_pillar', 'iron_pillar', 'iron_pillar', 'iron_pillar', 'iron_pillar', 'iron_pillar', 'iron_pillar', 'iron_pillar', 'iron_pillar', 'iron_pillar', 'iron_pillar', 'iron_pillar', 'iron_pillar', 'iron_pillar', 'iron_pillar', 'iron_pillar', 'iron_pillar', 'iron_pillar', 'iron_pillar', 'iron_pillar', 'iron_pillar', 'iron_pillar', 'iron_pillar', 'iron_pillar', 'iron_pillar', 'iron_pillar', 'iron_pillar', 'iron_pillar', 'iron_pillar', 'iron_pillar', 'iron_pillar', 'iron_pillar', 'iron_pillar', 'iron_pillar', 'iron_pillar', 'iron_pillar', 'iron_pillar', 'iron_pillar', 'iron_pillar', 'iron_pillar', 'iron_pillar', 'iron_pillar', 'iron_pillar', 'iron_pillar', 'iron_pillar', 'iron_pillar', 'iron_pillar', 'iron_pillar', 'iron_pillar', 'iron_pillar', 'iron_pillar', 'iron_pillar', 'iron_pillar', 'iron_pillar', 'iron_pillar', 'iron_pillar', 'iron_pillar', 'iron_pillar', 'iron_pillar', 'iron_pillar', 'iron_pillar', 'iron_pillar', 'iron_pillar', 'iron_pillar', 'iron_pillar', 'iron_pillar', 'iron_pillar', 'iron_pillar', 'iron_pillar', 'iron_pillar', 'iron_pillar', 'iron_pillar', 'iron_pillar', 'iron_pillar', 'iron_pillar', 'iron_pillar', 'iron_pillar', 'iron_pillar', 'iron_pillar', 'iron_pillar', 'iron_pillar', 'iron_pillar', 'iron_pillar', 'iron_pillar', 'iron_pillar', 'iron_pillar', 'iron_pillar', 'iron_pillar', 'iron_pillar', 'iron_pillar', 'iron_pillar', 'iron_pillar', 'iron_pillar', 'iron_pillar', 'iron_pillar', 'iron_pillar', 'iron_pillar', 'iron_pillar', 'iron_pillar', 'iron_pillar', 'iron_pillar', 'iron_pillar', 'iron_pillar', 'iron_pillar', 'iron_pillar', 'iron_pillar', 'iron_pillar', 'iron_pillar', 'iron_pillar', 'iron_pillar', 'iron_pillar', 'iron_pillar', 'iron_pillar', 'iron_pillar', 'iron_pillar', 'iron_pillar', 'iron_pillar', 'iron_pillar', 'iron_pillar', 'iron_pillar', 'iron_pillar', 'iron_pillar', 'iron_pillar', 'iron_pillar', 'iron_pillar', 'iron_pillar', 'iron_pillar', 'iron_pillar', 'iron_pillar', 'iron_pillar', 'iron_pillar', 'iron_pillar', 'iron_pillar', 'iron_pillar', 'iron_pillar', 'iron_pillar', 'iron_pillar', 'iron_pillar', 'iron_pillar', 'iron_pillar', 'iron_pillar', 'iron_pillar', 'iron_pillar', 'iron_pillar', 'iron_pillar', 'iron_pillar', 'iron_pillar', 'iron_pillar', 'iron_pillar', 'iron_pillar', 'iron_pillar', 'iron_pillar', 'iron_pillar', 'iron_pillar', 'iron_pillar', 'iron_pillar', 'iron_pillar', 'iron_pillar', 'iron_pillar', 'iron_pillar', 'iron_pillar', 'iron_pillar', 'iron_pillar', 'iron_pillar', 'iron_pillar', 'iron_pillar', 'iron_pillar', 'iron_pillar', 'iron_pillar', 'iron_pillar', 'iron_pillar', 'iron_pillar', 'iron_pillar', 'iron_pillar', 'iron_pillar', 'iron_pillar', 'iron_pillar', 'iron_pillar', 'iron_pillar', 'iron_pillar', 'iron_pillar', 'iron_pillar', 'iron_pillar', 'iron_pillar', 'iron_pillar', 'iron_pillar', 'jamali_kamali_tomb', 'jamali_kamali_tomb', 'jamali_kamali_tomb', 'jamali_kamali_tomb', 'jamali_kamali_tomb', 'jamali_kamali_tomb', 'jamali_kamali_tomb', 'jamali_kamali_tomb', 'jamali_kamali_tomb', 'jamali_kamali_tomb', 'jamali_kamali_tomb', 'jamali_kamali_tomb', 'jamali_kamali_tomb', 'jamali_kamali_tomb', 'jamali_kamali_tomb', 'jamali_kamali_tomb', 'jamali_kamali_tomb', 'jamali_kamali_tomb', 'jamali_kamali_tomb', 'jamali_kamali_tomb', 'jamali_kamali_tomb', 'jamali_kamali_tomb', 'jamali_kamali_tomb', 'jamali_kamali_tomb', 'jamali_kamali_tomb', 'jamali_kamali_tomb', 'jamali_kamali_tomb', 'jamali_kamali_tomb', 'jamali_kamali_tomb', 'jamali_kamali_tomb', 'jamali_kamali_tomb', 'jamali_kamali_tomb', 'jamali_kamali_tomb', 'jamali_kamali_tomb', 'jamali_kamali_tomb', 'jamali_kamali_tomb', 'jamali_kamali_tomb', 'jamali_kamali_tomb', 'jamali_kamali_tomb', 'jamali_kamali_tomb', 'jamali_kamali_tomb', 'jamali_kamali_tomb', 'jamali_kamali_tomb', 'jamali_kamali_tomb', 'jamali_kamali_tomb', 'jamali_kamali_tomb', 'jamali_kamali_tomb', 'jamali_kamali_tomb', 'jamali_kamali_tomb', 'jamali_kamali_tomb', 'jamali_kamali_tomb', 'jamali_kamali_tomb', 'jamali_kamali_tomb', 'jamali_kamali_tomb', 'jamali_kamali_tomb', 'jamali_kamali_tomb', 'jamali_kamali_tomb', 'jamali_kamali_tomb', 'jamali_kamali_tomb', 'jamali_kamali_tomb', 'jamali_kamali_tomb', 'jamali_kamali_tomb', 'jamali_kamali_tomb', 'jamali_kamali_tomb', 'jamali_kamali_tomb', 'jamali_kamali_tomb', 'jamali_kamali_tomb', 'jamali_kamali_tomb', 'jamali_kamali_tomb', 'jamali_kamali_tomb', 'jamali_kamali_tomb', 'jamali_kamali_tomb', 'jamali_kamali_tomb', 'jamali_kamali_tomb', 'jamali_kamali_tomb', 'jamali_kamali_tomb', 'jamali_kamali_tomb', 'jamali_kamali_tomb', 'jamali_kamali_tomb', 'jamali_kamali_tomb', 'jamali_kamali_tomb', 'jamali_kamali_tomb', 'jamali_kamali_tomb', 'jamali_kamali_tomb', 'jamali_kamali_tomb', 'jamali_kamali_tomb', 'jamali_kamali_tomb', 'jamali_kamali_tomb', 'jamali_kamali_tomb', 'jamali_kamali_tomb', 'jamali_kamali_tomb', 'jamali_kamali_tomb', 'jamali_kamali_tomb', 'jamali_kamali_tomb', 'jamali_kamali_tomb', 'jamali_kamali_tomb', 'jamali_kamali_tomb', 'jamali_kamali_tomb', 'jamali_kamali_tomb', 'jamali_kamali_tomb', 'jamali_kamali_tomb', 'jamali_kamali_tomb', 'jamali_kamali_tomb', 'jamali_kamali_tomb', 'jamali_kamali_tomb', 'jamali_kamali_tomb', 'jamali_kamali_tomb', 'jamali_kamali_tomb', 'jamali_kamali_tomb', 'jamali_kamali_tomb', 'jamali_kamali_tomb', 'jamali_kamali_tomb', 'jamali_kamali_tomb', 'jamali_kamali_tomb', 'jamali_kamali_tomb', 'jamali_kamali_tomb', 'jamali_kamali_tomb', 'jamali_kamali_tomb', 'jamali_kamali_tomb', 'jamali_kamali_tomb', 'jamali_kamali_tomb', 'jamali_kamali_tomb', 'jamali_kamali_tomb', 'jamali_kamali_tomb', 'jamali_kamali_tomb', 'jamali_kamali_tomb', 'jamali_kamali_tomb', 'jamali_kamali_tomb', 'jamali_kamali_tomb', 'jamali_kamali_tomb', 'jamali_kamali_tomb', 'jamali_kamali_tomb', 'jamali_kamali_tomb', 'jamali_kamali_tomb', 'jamali_kamali_tomb', 'jamali_kamali_tomb', 'jamali_kamali_tomb', 'jamali_kamali_tomb', 'jamali_kamali_tomb', 'jamali_kamali_tomb', 'jamali_kamali_tomb', 'jamali_kamali_tomb', 'jamali_kamali_tomb', 'jamali_kamali_tomb', 'jamali_kamali_tomb', 'jamali_kamali_tomb', 'jamali_kamali_tomb', 'jamali_kamali_tomb', 'jamali_kamali_tomb', 'jamali_kamali_tomb', 'jamali_kamali_tomb', 'jamali_kamali_tomb', 'jamali_kamali_tomb', 'jamali_kamali_tomb', 'jamali_kamali_tomb', 'jamali_kamali_tomb', 'jamali_kamali_tomb', 'jamali_kamali_tomb', 'jamali_kamali_tomb', 'jamali_kamali_tomb', 'Khajuraho', 'Khajuraho', 'Khajuraho', 'Khajuraho', 'Khajuraho', 'Khajuraho', 'Khajuraho', 'Khajuraho', 'Khajuraho', 'Khajuraho', 'Khajuraho', 'Khajuraho', 'Khajuraho', 'Khajuraho', 'Khajuraho', 'Khajuraho', 'Khajuraho', 'Khajuraho', 'Khajuraho', 'Khajuraho', 'Khajuraho', 'Khajuraho', 'Khajuraho', 'Khajuraho', 'Khajuraho', 'Khajuraho', 'Khajuraho', 'Khajuraho', 'Khajuraho', 'Khajuraho', 'Khajuraho', 'Khajuraho', 'Khajuraho', 'Khajuraho', 'Khajuraho', 'lotus_temple', 'lotus_temple', 'lotus_temple', 'lotus_temple', 'lotus_temple', 'lotus_temple', 'lotus_temple', 'lotus_temple', 'lotus_temple', 'lotus_temple', 'lotus_temple', 'lotus_temple', 'lotus_temple', 'lotus_temple', 'lotus_temple', 'lotus_temple', 'lotus_temple', 'lotus_temple', 'lotus_temple', 'lotus_temple', 'lotus_temple', 'mysore_palace', 'mysore_palace', 'mysore_palace', 'mysore_palace', 'mysore_palace', 'mysore_palace', 'mysore_palace', 'mysore_palace', 'mysore_palace', 'mysore_palace', 'mysore_palace', 'mysore_palace', 'mysore_palace', 'mysore_palace', 'mysore_palace', 'mysore_palace', 'mysore_palace', 'mysore_palace', 'mysore_palace', 'mysore_palace', 'mysore_palace', 'mysore_palace', 'mysore_palace', 'mysore_palace', 'mysore_palace', 'mysore_palace', 'mysore_palace', 'mysore_palace', 'mysore_palace', 'mysore_palace', 'mysore_palace', 'mysore_palace', 'mysore_palace', 'mysore_palace', 'mysore_palace', 'mysore_palace', 'mysore_palace', 'mysore_palace', 'mysore_palace', 'mysore_palace', 'mysore_palace', 'mysore_palace', 'mysore_palace', 'mysore_palace', 'mysore_palace', 'mysore_palace', 'mysore_palace', 'mysore_palace', 'mysore_palace', 'mysore_palace', 'mysore_palace', 'mysore_palace', 'mysore_palace', 'mysore_palace', 'mysore_palace', 'mysore_palace', 'mysore_palace', 'mysore_palace', 'mysore_palace', 'mysore_palace', 'mysore_palace', 'mysore_palace', 'mysore_palace', 'mysore_palace', 'mysore_palace', 'mysore_palace', 'mysore_palace', 'mysore_palace', 'mysore_palace', 'mysore_palace', 'mysore_palace', 'mysore_palace', 'mysore_palace', 'qutub_minar', 'qutub_minar', 'qutub_minar', 'qutub_minar', 'qutub_minar', 'qutub_minar', 'qutub_minar', 'qutub_minar', 'qutub_minar', 'qutub_minar', 'qutub_minar', 'qutub_minar', 'qutub_minar', 'qutub_minar', 'qutub_minar', 'qutub_minar', 'qutub_minar', 'qutub_minar', 'qutub_minar', 'qutub_minar', 'qutub_minar', 'qutub_minar', 'qutub_minar', 'qutub_minar', 'qutub_minar', 'qutub_minar', 'qutub_minar', 'qutub_minar', 'qutub_minar', 'qutub_minar', 'qutub_minar', 'qutub_minar', 'qutub_minar', 'qutub_minar', 'qutub_minar', 'qutub_minar', 'qutub_minar', 'qutub_minar', 'qutub_minar', 'qutub_minar', 'qutub_minar', 'qutub_minar', 'qutub_minar', 'qutub_minar', 'qutub_minar', 'qutub_minar', 'qutub_minar', 'qutub_minar', 'qutub_minar', 'qutub_minar', 'qutub_minar', 'qutub_minar', 'qutub_minar', 'qutub_minar', 'qutub_minar', 'qutub_minar', 'qutub_minar', 'qutub_minar', 'qutub_minar', 'qutub_minar', 'qutub_minar', 'qutub_minar', 'qutub_minar', 'qutub_minar', 'qutub_minar', 'qutub_minar', 'qutub_minar', 'qutub_minar', 'qutub_minar', 'qutub_minar', 'qutub_minar', 'qutub_minar', 'qutub_minar', 'qutub_minar', 'qutub_minar', 'qutub_minar', 'qutub_minar', 'qutub_minar', 'qutub_minar', 'qutub_minar', 'qutub_minar', 'qutub_minar', 'qutub_minar', 'qutub_minar', 'qutub_minar', 'qutub_minar', 'qutub_minar', 'qutub_minar', 'qutub_minar', 'qutub_minar', 'qutub_minar', 'qutub_minar', 'qutub_minar', 'qutub_minar', 'qutub_minar', 'qutub_minar', 'qutub_minar', 'qutub_minar', 'qutub_minar', 'qutub_minar', 'qutub_minar', 'qutub_minar', 'qutub_minar', 'qutub_minar', 'qutub_minar', 'qutub_minar', 'qutub_minar', 'qutub_minar', 'qutub_minar', 'qutub_minar', 'qutub_minar', 'qutub_minar', 'qutub_minar', 'qutub_minar', 'qutub_minar', 'qutub_minar', 'qutub_minar', 'qutub_minar', 'qutub_minar', 'qutub_minar', 'qutub_minar', 'qutub_minar', 'qutub_minar', 'qutub_minar', 'qutub_minar', 'qutub_minar', 'qutub_minar', 'qutub_minar', 'qutub_minar', 'qutub_minar', 'qutub_minar', 'qutub_minar', 'qutub_minar', 'qutub_minar', 'qutub_minar', 'qutub_minar', 'qutub_minar', 'qutub_minar', 'qutub_minar', 'qutub_minar', 'qutub_minar', 'qutub_minar', 'qutub_minar', 'qutub_minar', 'qutub_minar', 'qutub_minar', 'qutub_minar', 'qutub_minar', 'qutub_minar', 'qutub_minar', 'qutub_minar', 'qutub_minar', 'qutub_minar', 'qutub_minar', 'qutub_minar', 'qutub_minar', 'qutub_minar', 'qutub_minar', 'qutub_minar', 'qutub_minar', 'qutub_minar', 'qutub_minar', 'qutub_minar', 'qutub_minar', 'qutub_minar', 'qutub_minar', 'qutub_minar', 'qutub_minar', 'qutub_minar', 'qutub_minar', 'qutub_minar', 'qutub_minar', 'qutub_minar', 'qutub_minar', 'qutub_minar', 'qutub_minar', 'qutub_minar', 'qutub_minar', 'qutub_minar', 'qutub_minar', 'qutub_minar', 'qutub_minar', 'qutub_minar', 'qutub_minar', 'qutub_minar', 'qutub_minar', 'qutub_minar', 'qutub_minar', 'qutub_minar', 'qutub_minar', 'qutub_minar', 'qutub_minar', 'qutub_minar', 'qutub_minar', 'qutub_minar', 'qutub_minar', 'qutub_minar', 'qutub_minar', 'qutub_minar', 'qutub_minar', 'qutub_minar', 'qutub_minar', 'qutub_minar', 'qutub_minar', 'qutub_minar', 'qutub_minar', 'qutub_minar', 'qutub_minar', 'qutub_minar', 'qutub_minar', 'qutub_minar', 'qutub_minar', 'qutub_minar', 'qutub_minar', 'qutub_minar', 'qutub_minar', 'qutub_minar', 'qutub_minar', 'qutub_minar', 'qutub_minar', 'qutub_minar', 'qutub_minar', 'qutub_minar', 'qutub_minar', 'qutub_minar', 'qutub_minar', 'qutub_minar', 'qutub_minar', 'qutub_minar', 'qutub_minar', 'qutub_minar', 'qutub_minar', 'qutub_minar', 'qutub_minar', 'qutub_minar', 'qutub_minar', 'qutub_minar', 'qutub_minar', 'qutub_minar', 'qutub_minar', 'qutub_minar', 'qutub_minar', 'qutub_minar', 'qutub_minar', 'qutub_minar', 'qutub_minar', 'qutub_minar', 'qutub_minar', 'qutub_minar', 'qutub_minar', 'qutub_minar', 'qutub_minar', 'qutub_minar', 'qutub_minar', 'qutub_minar', 'qutub_minar', 'qutub_minar', 'qutub_minar', 'qutub_minar', 'qutub_minar', 'qutub_minar', 'qutub_minar', 'qutub_minar', 'qutub_minar', 'qutub_minar', 'qutub_minar', 'qutub_minar', 'qutub_minar', 'qutub_minar', 'qutub_minar', 'qutub_minar', 'qutub_minar', 'qutub_minar', 'qutub_minar', 'qutub_minar', 'Sun Temple Konark', 'Sun Temple Konark', 'Sun Temple Konark', 'Sun Temple Konark', 'Sun Temple Konark', 'Sun Temple Konark', 'Sun Temple Konark', 'Sun Temple Konark', 'Sun Temple Konark', 'Sun Temple Konark', 'Sun Temple Konark', 'Sun Temple Konark', 'Sun Temple Konark', 'Sun Temple Konark', 'Sun Temple Konark', 'Sun Temple Konark', 'Sun Temple Konark', 'Sun Temple Konark', 'Sun Temple Konark', 'Sun Temple Konark', 'Sun Temple Konark', 'Sun Temple Konark', 'Sun Temple Konark', 'Sun Temple Konark', 'Sun Temple Konark', 'Sun Temple Konark', 'Sun Temple Konark', 'Sun Temple Konark', 'Sun Temple Konark', 'Sun Temple Konark', 'Sun Temple Konark', 'Sun Temple Konark', 'Sun Temple Konark', 'Sun Temple Konark', 'Sun Temple Konark', 'Sun Temple Konark', 'Sun Temple Konark', 'Sun Temple Konark', 'Sun Temple Konark', 'Sun Temple Konark', 'Sun Temple Konark', 'Sun Temple Konark', 'Sun Temple Konark', 'Sun Temple Konark', 'Sun Temple Konark', 'Sun Temple Konark', 'Sun Temple Konark', 'Sun Temple Konark', 'Sun Temple Konark', 'Sun Temple Konark', 'Sun Temple Konark', 'Sun Temple Konark', 'Sun Temple Konark', 'Sun Temple Konark', 'Sun Temple Konark', 'Sun Temple Konark', 'Sun Temple Konark', 'Sun Temple Konark', 'Sun Temple Konark', 'Sun Temple Konark', 'Sun Temple Konark', 'Sun Temple Konark', 'Sun Temple Konark', 'Sun Temple Konark', 'Sun Temple Konark', 'Sun Temple Konark', 'Sun Temple Konark', 'Sun Temple Konark', 'Sun Temple Konark', 'Sun Temple Konark', 'Sun Temple Konark', 'Sun Temple Konark', 'Sun Temple Konark', 'Sun Temple Konark', 'Sun Temple Konark', 'Sun Temple Konark', 'Sun Temple Konark', 'Sun Temple Konark', 'Sun Temple Konark', 'Sun Temple Konark', 'Sun Temple Konark', 'Sun Temple Konark', 'Sun Temple Konark', 'Sun Temple Konark', 'Sun Temple Konark', 'Sun Temple Konark', 'Sun Temple Konark', 'Sun Temple Konark', 'Sun Temple Konark', 'Sun Temple Konark', 'Sun Temple Konark', 'Sun Temple Konark', 'Sun Temple Konark', 'Sun Temple Konark', 'Sun Temple Konark', 'Sun Temple Konark', 'Sun Temple Konark', 'Sun Temple Konark', 'Sun Temple Konark', 'Sun Temple Konark', 'Sun Temple Konark', 'Sun Temple Konark', 'Sun Temple Konark', 'Sun Temple Konark', 'Sun Temple Konark', 'Sun Temple Konark', 'Sun Temple Konark', 'Sun Temple Konark', 'Sun Temple Konark', 'Sun Temple Konark', 'Sun Temple Konark', 'Sun Temple Konark', 'Sun Temple Konark', 'Sun Temple Konark', 'Sun Temple Konark', 'Sun Temple Konark', 'Sun Temple Konark', 'Sun Temple Konark', 'Sun Temple Konark', 'Sun Temple Konark', 'Sun Temple Konark', 'Sun Temple Konark', 'Sun Temple Konark', 'Sun Temple Konark', 'Sun Temple Konark', 'Sun Temple Konark', 'Sun Temple Konark', 'tajmahal', 'tajmahal', 'tajmahal', 'tajmahal', 'tajmahal', 'tajmahal', 'tajmahal', 'tajmahal', 'tajmahal', 'tajmahal', 'tajmahal', 'tajmahal', 'tajmahal', 'tajmahal', 'tajmahal', 'tajmahal', 'tajmahal', 'tajmahal', 'tajmahal', 'tajmahal', 'tajmahal', 'tajmahal', 'tajmahal', 'tajmahal', 'tajmahal', 'tajmahal', 'tajmahal', 'tajmahal', 'tajmahal', 'tajmahal', 'tajmahal', 'tajmahal', 'tajmahal', 'tajmahal', 'tajmahal', 'tajmahal', 'tajmahal', 'tajmahal', 'tajmahal', 'tajmahal', 'tajmahal', 'tajmahal', 'tajmahal', 'tajmahal', 'tajmahal', 'tajmahal', 'tajmahal', 'tajmahal', 'tajmahal', 'tajmahal', 'tajmahal', 'tajmahal', 'tajmahal', 'tajmahal', 'tajmahal', 'tajmahal', 'tajmahal', 'tajmahal', 'tajmahal', 'tajmahal', 'tajmahal', 'tajmahal', 'tajmahal', 'tajmahal', 'tanjavur temple', 'tanjavur temple', 'tanjavur temple', 'tanjavur temple', 'tanjavur temple', 'tanjavur temple', 'tanjavur temple', 'tanjavur temple', 'tanjavur temple', 'tanjavur temple', 'tanjavur temple', 'tanjavur temple', 'tanjavur temple', 'tanjavur temple', 'tanjavur temple', 'tanjavur temple', 'tanjavur temple', 'tanjavur temple', 'tanjavur temple', 'tanjavur temple', 'tanjavur temple', 'tanjavur temple', 'tanjavur temple', 'tanjavur temple', 'tanjavur temple', 'tanjavur temple', 'tanjavur temple', 'tanjavur temple', 'tanjavur temple', 'tanjavur temple', 'tanjavur temple', 'tanjavur temple', 'tanjavur temple', 'tanjavur temple', 'tanjavur temple', 'tanjavur temple', 'tanjavur temple', 'tanjavur temple', 'tanjavur temple', 'tanjavur temple', 'tanjavur temple', 'tanjavur temple', 'tanjavur temple', 'tanjavur temple', 'tanjavur temple', 'tanjavur temple', 'tanjavur temple', 'tanjavur temple', 'tanjavur temple', 'tanjavur temple', 'tanjavur temple', 'tanjavur temple', 'tanjavur temple', 'tanjavur temple', 'tanjavur temple', 'tanjavur temple', 'tanjavur temple', 'tanjavur temple', 'tanjavur temple', 'tanjavur temple', 'tanjavur temple', 'tanjavur temple', 'victoria memorial', 'victoria memorial', 'victoria memorial', 'victoria memorial', 'victoria memorial', 'victoria memorial', 'victoria memorial', 'victoria memorial', 'victoria memorial', 'victoria memorial', 'victoria memorial', 'victoria memorial', 'victoria memorial', 'victoria memorial', 'victoria memorial', 'victoria memorial', 'victoria memorial', 'victoria memorial', 'victoria memorial', 'victoria memorial', 'victoria memorial', 'victoria memorial', 'victoria memorial', 'victoria memorial', 'victoria memorial', 'victoria memorial', 'victoria memorial', 'victoria memorial', 'victoria memorial', 'victoria memorial', 'victoria memorial', 'victoria memorial', 'victoria memorial', 'victoria memorial', 'victoria memorial', 'victoria memorial', 'victoria memorial', 'victoria memorial', 'victoria memorial', 'victoria memorial', 'victoria memorial', 'victoria memorial', 'victoria memorial', 'victoria memorial', 'victoria memorial', 'victoria memorial', 'victoria memorial', 'victoria memorial', 'victoria memorial', 'victoria memorial', 'victoria memorial', 'victoria memorial', 'victoria memorial', 'victoria memorial', 'victoria memorial', 'victoria memorial', 'victoria memorial', 'victoria memorial', 'victoria memorial', 'victoria memorial', 'victoria memorial', 'victoria memorial', 'victoria memorial', 'victoria memorial', 'victoria memorial', 'victoria memorial', 'victoria memorial', 'victoria memorial', 'victoria memorial', 'victoria memorial', 'victoria memorial', 'victoria memorial', 'victoria memorial', 'victoria memorial', 'victoria memorial', 'victoria memorial', 'victoria memorial', 'victoria memorial', 'victoria memorial', 'victoria memorial', 'victoria memorial', 'victoria memorial', 'victoria memorial', 'victoria memorial', 'victoria memorial', 'victoria memorial', 'victoria memorial', 'victoria memorial', 'victoria memorial', 'victoria memorial', 'victoria memorial', 'victoria memorial', 'victoria memorial', 'victoria memorial', 'victoria memorial', 'victoria memorial', 'victoria memorial', 'victoria memorial', 'victoria memorial', 'victoria memorial', 'victoria memorial', 'victoria memorial', 'victoria memorial', 'victoria memorial', 'victoria memorial', 'victoria memorial', 'victoria memorial', 'victoria memorial', 'victoria memorial', 'victoria memorial', 'victoria memorial', 'victoria memorial', 'victoria memorial', 'victoria memorial', 'victoria memorial', 'victoria memorial', 'victoria memorial', 'victoria memorial', 'victoria memorial', 'victoria memorial', 'victoria memorial', 'victoria memorial', 'victoria memorial', 'victoria memorial', 'victoria memorial', 'victoria memorial', 'victoria memorial', 'victoria memorial', 'victoria memorial', 'victoria memorial', 'victoria memorial', 'victoria memorial', 'victoria memorial', 'victoria memorial', 'victoria memorial', 'victoria memorial', 'victoria memorial', 'victoria memorial', 'victoria memorial', 'victoria memorial', 'victoria memorial', 'victoria memorial', 'victoria memorial', 'victoria memorial', 'victoria memorial', 'victoria memorial', 'victoria memorial', 'victoria memorial', 'victoria memorial', 'victoria memorial', 'victoria memorial', 'victoria memorial', 'victoria memorial', 'victoria memorial', 'victoria memorial', 'victoria memorial', 'victoria memorial', 'victoria memorial', 'victoria memorial', 'victoria memorial']\n",
      "['Ajanta Caves', 'Ajanta Caves', 'Ajanta Caves', 'Ajanta Caves', 'Ajanta Caves', 'Ajanta Caves', 'Ajanta Caves', 'Ajanta Caves', 'Ajanta Caves', 'alai_darwaza', 'alai_darwaza', 'alai_darwaza', 'alai_darwaza', 'alai_darwaza', 'alai_darwaza', 'alai_darwaza', 'alai_minar', 'alai_minar', 'alai_minar', 'alai_minar', 'alai_minar', 'alai_minar', 'alai_minar', 'alai_minar', 'alai_minar', 'alai_minar', 'alai_minar', 'alai_minar', 'alai_minar', 'alai_minar', 'basilica_of_bom_jesus', 'basilica_of_bom_jesus', 'basilica_of_bom_jesus', 'basilica_of_bom_jesus', 'basilica_of_bom_jesus', 'basilica_of_bom_jesus', 'basilica_of_bom_jesus', 'basilica_of_bom_jesus', 'basilica_of_bom_jesus', 'basilica_of_bom_jesus', 'Charar-E- Sharif', 'Charar-E- Sharif', 'Charar-E- Sharif', 'Charar-E- Sharif', 'Charar-E- Sharif', 'Charar-E- Sharif', 'Charar-E- Sharif', 'Charar-E- Sharif', 'Charar-E- Sharif', 'Charar-E- Sharif', 'Charar-E- Sharif', 'Charar-E- Sharif', 'Charar-E- Sharif', 'Charar-E- Sharif', 'Charar-E- Sharif', 'Charar-E- Sharif', 'charminar', 'charminar', 'charminar', 'charminar', 'charminar', 'charminar', 'charminar', 'charminar', 'charminar', 'charminar', 'charminar', 'charminar', 'charminar', 'charminar', 'charminar', 'charminar', 'charminar', 'charminar', 'charminar', 'charminar', 'charminar', 'Chhota_Imambara', 'Chhota_Imambara', 'Chhota_Imambara', 'Chhota_Imambara', 'Chhota_Imambara', 'Chhota_Imambara', 'Chhota_Imambara', 'Chhota_Imambara', 'Chhota_Imambara', 'Chhota_Imambara', 'Chhota_Imambara', 'Ellora Caves', 'Ellora Caves', 'Ellora Caves', 'Ellora Caves', 'Ellora Caves', 'Ellora Caves', 'Ellora Caves', 'Ellora Caves', 'Ellora Caves', 'Ellora Caves', 'Ellora Caves', 'Fatehpur Sikri', 'Fatehpur Sikri', 'Fatehpur Sikri', 'Fatehpur Sikri', 'Gateway of India', 'Gateway of India', 'Gateway of India', 'Gateway of India', 'Gateway of India', 'Gateway of India', 'Gateway of India', 'Gateway of India', 'Gateway of India', 'Gateway of India', 'Gateway of India', 'Gateway of India', 'Gateway of India', 'Gateway of India', 'Gateway of India', 'Gateway of India', 'Gateway of India', 'Gateway of India', 'Gateway of India', 'Gateway of India', 'golden temple', 'golden temple', 'golden temple', 'golden temple', 'golden temple', 'golden temple', 'golden temple', 'golden temple', 'golden temple', 'hawa mahal pics', 'hawa mahal pics', 'hawa mahal pics', 'hawa mahal pics', 'hawa mahal pics', 'hawa mahal pics', 'hawa mahal pics', 'Humayun_s Tomb', 'Humayun_s Tomb', 'Humayun_s Tomb', 'Humayun_s Tomb', 'Humayun_s Tomb', 'Humayun_s Tomb', 'Humayun_s Tomb', 'Humayun_s Tomb', 'Humayun_s Tomb', 'Humayun_s Tomb', 'Humayun_s Tomb', 'Humayun_s Tomb', 'Humayun_s Tomb', 'Humayun_s Tomb', 'Humayun_s Tomb', 'Humayun_s Tomb', 'India gate pics', 'India gate pics', 'India gate pics', 'India gate pics', 'India gate pics', 'India gate pics', 'India gate pics', 'India gate pics', 'India gate pics', 'iron_pillar', 'iron_pillar', 'iron_pillar', 'iron_pillar', 'iron_pillar', 'iron_pillar', 'iron_pillar', 'iron_pillar', 'iron_pillar', 'iron_pillar', 'iron_pillar', 'iron_pillar', 'iron_pillar', 'iron_pillar', 'iron_pillar', 'iron_pillar', 'iron_pillar', 'iron_pillar', 'iron_pillar', 'iron_pillar', 'iron_pillar', 'iron_pillar', 'iron_pillar', 'jamali_kamali_tomb', 'jamali_kamali_tomb', 'jamali_kamali_tomb', 'jamali_kamali_tomb', 'jamali_kamali_tomb', 'jamali_kamali_tomb', 'jamali_kamali_tomb', 'jamali_kamali_tomb', 'jamali_kamali_tomb', 'jamali_kamali_tomb', 'jamali_kamali_tomb', 'jamali_kamali_tomb', 'jamali_kamali_tomb', 'jamali_kamali_tomb', 'jamali_kamali_tomb', 'jamali_kamali_tomb', 'jamali_kamali_tomb', 'jamali_kamali_tomb', 'jamali_kamali_tomb', 'jamali_kamali_tomb', 'Khajuraho', 'Khajuraho', 'Khajuraho', 'Khajuraho', 'lotus_temple', 'mysore_palace', 'mysore_palace', 'mysore_palace', 'mysore_palace', 'mysore_palace', 'mysore_palace', 'mysore_palace', 'mysore_palace', 'mysore_palace', 'qutub_minar', 'qutub_minar', 'qutub_minar', 'qutub_minar', 'qutub_minar', 'qutub_minar', 'qutub_minar', 'qutub_minar', 'qutub_minar', 'qutub_minar', 'qutub_minar', 'qutub_minar', 'qutub_minar', 'qutub_minar', 'qutub_minar', 'qutub_minar', 'qutub_minar', 'qutub_minar', 'qutub_minar', 'qutub_minar', 'qutub_minar', 'qutub_minar', 'qutub_minar', 'qutub_minar', 'qutub_minar', 'qutub_minar', 'qutub_minar', 'qutub_minar', 'qutub_minar', 'qutub_minar', 'qutub_minar', 'qutub_minar', 'qutub_minar', 'qutub_minar', 'Sun Temple Konark', 'Sun Temple Konark', 'Sun Temple Konark', 'Sun Temple Konark', 'Sun Temple Konark', 'Sun Temple Konark', 'Sun Temple Konark', 'Sun Temple Konark', 'Sun Temple Konark', 'Sun Temple Konark', 'Sun Temple Konark', 'Sun Temple Konark', 'Sun Temple Konark', 'Sun Temple Konark', 'Sun Temple Konark', 'tajmahal', 'tajmahal', 'tajmahal', 'tajmahal', 'tajmahal', 'tajmahal', 'tajmahal', 'tajmahal', 'tajmahal', 'tanjavur temple', 'tanjavur temple', 'tanjavur temple', 'tanjavur temple', 'tanjavur temple', 'tanjavur temple', 'tanjavur temple', 'tanjavur temple', 'tanjavur temple', 'victoria memorial', 'victoria memorial', 'victoria memorial', 'victoria memorial', 'victoria memorial', 'victoria memorial', 'victoria memorial', 'victoria memorial', 'victoria memorial', 'victoria memorial', 'victoria memorial', 'victoria memorial', 'victoria memorial', 'victoria memorial', 'victoria memorial', 'victoria memorial', 'victoria memorial', 'victoria memorial', 'victoria memorial', 'victoria memorial']\n",
      "['Ajanta Caves', 'Ajanta Caves', 'Ajanta Caves', 'Ajanta Caves', 'Ajanta Caves', 'Ajanta Caves', 'Ajanta Caves', 'Ajanta Caves', 'Ajanta Caves', 'Ajanta Caves', 'Ajanta Caves', 'alai_darwaza', 'alai_darwaza', 'alai_darwaza', 'alai_darwaza', 'alai_darwaza', 'alai_darwaza', 'alai_minar', 'alai_minar', 'alai_minar', 'alai_minar', 'alai_minar', 'alai_minar', 'alai_minar', 'alai_minar', 'alai_minar', 'alai_minar', 'alai_minar', 'alai_minar', 'alai_minar', 'alai_minar', 'basilica_of_bom_jesus', 'basilica_of_bom_jesus', 'basilica_of_bom_jesus', 'basilica_of_bom_jesus', 'basilica_of_bom_jesus', 'basilica_of_bom_jesus', 'basilica_of_bom_jesus', 'basilica_of_bom_jesus', 'basilica_of_bom_jesus', 'basilica_of_bom_jesus', 'Charar-E- Sharif', 'Charar-E- Sharif', 'Charar-E- Sharif', 'Charar-E- Sharif', 'Charar-E- Sharif', 'Charar-E- Sharif', 'Charar-E- Sharif', 'Charar-E- Sharif', 'Charar-E- Sharif', 'Charar-E- Sharif', 'Charar-E- Sharif', 'Charar-E- Sharif', 'Charar-E- Sharif', 'Charar-E- Sharif', 'Charar-E- Sharif', 'Charar-E- Sharif', 'Charar-E- Sharif', 'Charar-E- Sharif', 'charminar', 'charminar', 'charminar', 'charminar', 'charminar', 'charminar', 'charminar', 'charminar', 'charminar', 'charminar', 'charminar', 'charminar', 'charminar', 'charminar', 'charminar', 'charminar', 'charminar', 'charminar', 'charminar', 'charminar', 'charminar', 'charminar', 'Chhota_Imambara', 'Chhota_Imambara', 'Chhota_Imambara', 'Chhota_Imambara', 'Chhota_Imambara', 'Chhota_Imambara', 'Chhota_Imambara', 'Chhota_Imambara', 'Chhota_Imambara', 'Chhota_Imambara', 'Chhota_Imambara', 'Ellora Caves', 'Ellora Caves', 'Ellora Caves', 'Ellora Caves', 'Ellora Caves', 'Ellora Caves', 'Ellora Caves', 'Ellora Caves', 'Ellora Caves', 'Ellora Caves', 'Ellora Caves', 'Fatehpur Sikri', 'Fatehpur Sikri', 'Fatehpur Sikri', 'Fatehpur Sikri', 'Fatehpur Sikri', 'Gateway of India', 'Gateway of India', 'Gateway of India', 'Gateway of India', 'Gateway of India', 'Gateway of India', 'Gateway of India', 'Gateway of India', 'Gateway of India', 'Gateway of India', 'Gateway of India', 'Gateway of India', 'Gateway of India', 'Gateway of India', 'Gateway of India', 'Gateway of India', 'Gateway of India', 'Gateway of India', 'Gateway of India', 'Gateway of India', 'Gateway of India', 'golden temple', 'golden temple', 'golden temple', 'golden temple', 'golden temple', 'golden temple', 'golden temple', 'golden temple', 'golden temple', 'golden temple', 'golden temple', 'hawa mahal pics', 'hawa mahal pics', 'hawa mahal pics', 'hawa mahal pics', 'hawa mahal pics', 'hawa mahal pics', 'Humayun_s Tomb', 'Humayun_s Tomb', 'Humayun_s Tomb', 'Humayun_s Tomb', 'Humayun_s Tomb', 'Humayun_s Tomb', 'Humayun_s Tomb', 'Humayun_s Tomb', 'Humayun_s Tomb', 'Humayun_s Tomb', 'Humayun_s Tomb', 'Humayun_s Tomb', 'Humayun_s Tomb', 'Humayun_s Tomb', 'Humayun_s Tomb', 'Humayun_s Tomb', 'Humayun_s Tomb', 'Humayun_s Tomb', 'India gate pics', 'India gate pics', 'India gate pics', 'India gate pics', 'India gate pics', 'India gate pics', 'India gate pics', 'iron_pillar', 'iron_pillar', 'iron_pillar', 'iron_pillar', 'iron_pillar', 'iron_pillar', 'iron_pillar', 'iron_pillar', 'iron_pillar', 'iron_pillar', 'iron_pillar', 'iron_pillar', 'iron_pillar', 'iron_pillar', 'iron_pillar', 'iron_pillar', 'iron_pillar', 'iron_pillar', 'iron_pillar', 'iron_pillar', 'iron_pillar', 'iron_pillar', 'iron_pillar', 'iron_pillar', 'jamali_kamali_tomb', 'jamali_kamali_tomb', 'jamali_kamali_tomb', 'jamali_kamali_tomb', 'jamali_kamali_tomb', 'jamali_kamali_tomb', 'jamali_kamali_tomb', 'jamali_kamali_tomb', 'jamali_kamali_tomb', 'jamali_kamali_tomb', 'jamali_kamali_tomb', 'jamali_kamali_tomb', 'jamali_kamali_tomb', 'jamali_kamali_tomb', 'jamali_kamali_tomb', 'jamali_kamali_tomb', 'jamali_kamali_tomb', 'jamali_kamali_tomb', 'jamali_kamali_tomb', 'jamali_kamali_tomb', 'jamali_kamali_tomb', 'Khajuraho', 'Khajuraho', 'Khajuraho', 'Khajuraho', 'Khajuraho', 'lotus_temple', 'mysore_palace', 'mysore_palace', 'mysore_palace', 'mysore_palace', 'mysore_palace', 'mysore_palace', 'mysore_palace', 'mysore_palace', 'mysore_palace', 'mysore_palace', 'qutub_minar', 'qutub_minar', 'qutub_minar', 'qutub_minar', 'qutub_minar', 'qutub_minar', 'qutub_minar', 'qutub_minar', 'qutub_minar', 'qutub_minar', 'qutub_minar', 'qutub_minar', 'qutub_minar', 'qutub_minar', 'qutub_minar', 'qutub_minar', 'qutub_minar', 'qutub_minar', 'qutub_minar', 'qutub_minar', 'qutub_minar', 'qutub_minar', 'qutub_minar', 'qutub_minar', 'qutub_minar', 'qutub_minar', 'qutub_minar', 'qutub_minar', 'qutub_minar', 'qutub_minar', 'qutub_minar', 'qutub_minar', 'qutub_minar', 'qutub_minar', 'qutub_minar', 'qutub_minar', 'qutub_minar', 'Sun Temple Konark', 'Sun Temple Konark', 'Sun Temple Konark', 'Sun Temple Konark', 'Sun Temple Konark', 'Sun Temple Konark', 'Sun Temple Konark', 'Sun Temple Konark', 'Sun Temple Konark', 'Sun Temple Konark', 'Sun Temple Konark', 'Sun Temple Konark', 'Sun Temple Konark', 'Sun Temple Konark', 'Sun Temple Konark', 'Sun Temple Konark', 'Sun Temple Konark', 'tajmahal', 'tajmahal', 'tajmahal', 'tajmahal', 'tajmahal', 'tajmahal', 'tajmahal', 'tanjavur temple', 'tanjavur temple', 'tanjavur temple', 'tanjavur temple', 'tanjavur temple', 'tanjavur temple', 'tanjavur temple', 'tanjavur temple', 'tanjavur temple', 'victoria memorial', 'victoria memorial', 'victoria memorial', 'victoria memorial', 'victoria memorial', 'victoria memorial', 'victoria memorial', 'victoria memorial', 'victoria memorial', 'victoria memorial', 'victoria memorial', 'victoria memorial', 'victoria memorial', 'victoria memorial', 'victoria memorial', 'victoria memorial', 'victoria memorial', 'victoria memorial', 'victoria memorial', 'victoria memorial']\n"
     ]
    }
   ],
   "source": [
    "def proc_img(filepath):\n",
    "    labels = [str(filepath[i]).split(\"\\\\\")[-2] for i in range(len(filepath))]\n",
    "    print(labels)\n",
    "    filepath = pd.Series(filepath, name=\"Filepath\").astype(str)\n",
    "    labels = pd.Series(labels, name=\"Label\")\n",
    "    df = pd.concat([filepath, labels], axis=1)\n",
    "    df = df.sample(frac=1, random_state=42).reset_index(drop=True)\n",
    "    return df\n",
    "\n",
    "\n",
    "train_df = proc_img(train_filepaths)\n",
    "val_df = proc_img(val_filepaths)\n",
    "test_df = proc_img(test_filepaths)"
   ]
  },
  {
   "cell_type": "code",
   "execution_count": 5,
   "metadata": {},
   "outputs": [
    {
     "data": {
      "text/html": [
       "<div>\n",
       "<style scoped>\n",
       "    .dataframe tbody tr th:only-of-type {\n",
       "        vertical-align: middle;\n",
       "    }\n",
       "\n",
       "    .dataframe tbody tr th {\n",
       "        vertical-align: top;\n",
       "    }\n",
       "\n",
       "    .dataframe thead th {\n",
       "        text-align: right;\n",
       "    }\n",
       "</style>\n",
       "<table border=\"1\" class=\"dataframe\">\n",
       "  <thead>\n",
       "    <tr style=\"text-align: right;\">\n",
       "      <th></th>\n",
       "      <th>Filepath</th>\n",
       "      <th>Label</th>\n",
       "    </tr>\n",
       "  </thead>\n",
       "  <tbody>\n",
       "    <tr>\n",
       "      <th>0</th>\n",
       "      <td>data1\\split\\Indian-monuments\\images\\train\\gold...</td>\n",
       "      <td>golden temple</td>\n",
       "    </tr>\n",
       "    <tr>\n",
       "      <th>1</th>\n",
       "      <td>data1\\split\\Indian-monuments\\images\\train\\Indi...</td>\n",
       "      <td>India gate pics</td>\n",
       "    </tr>\n",
       "    <tr>\n",
       "      <th>2</th>\n",
       "      <td>data1\\split\\Indian-monuments\\images\\train\\Sun ...</td>\n",
       "      <td>Sun Temple Konark</td>\n",
       "    </tr>\n",
       "    <tr>\n",
       "      <th>3</th>\n",
       "      <td>data1\\split\\Indian-monuments\\images\\train\\qutu...</td>\n",
       "      <td>qutub_minar</td>\n",
       "    </tr>\n",
       "    <tr>\n",
       "      <th>4</th>\n",
       "      <td>data1\\split\\Indian-monuments\\images\\train\\jama...</td>\n",
       "      <td>jamali_kamali_tomb</td>\n",
       "    </tr>\n",
       "    <tr>\n",
       "      <th>...</th>\n",
       "      <td>...</td>\n",
       "      <td>...</td>\n",
       "    </tr>\n",
       "    <tr>\n",
       "      <th>2483</th>\n",
       "      <td>data1\\split\\Indian-monuments\\images\\train\\jama...</td>\n",
       "      <td>jamali_kamali_tomb</td>\n",
       "    </tr>\n",
       "    <tr>\n",
       "      <th>2484</th>\n",
       "      <td>data1\\split\\Indian-monuments\\images\\train\\hawa...</td>\n",
       "      <td>hawa mahal pics</td>\n",
       "    </tr>\n",
       "    <tr>\n",
       "      <th>2485</th>\n",
       "      <td>data1\\split\\Indian-monuments\\images\\train\\Huma...</td>\n",
       "      <td>Humayun_s Tomb</td>\n",
       "    </tr>\n",
       "    <tr>\n",
       "      <th>2486</th>\n",
       "      <td>data1\\split\\Indian-monuments\\images\\train\\Indi...</td>\n",
       "      <td>India gate pics</td>\n",
       "    </tr>\n",
       "    <tr>\n",
       "      <th>2487</th>\n",
       "      <td>data1\\split\\Indian-monuments\\images\\train\\Gate...</td>\n",
       "      <td>Gateway of India</td>\n",
       "    </tr>\n",
       "  </tbody>\n",
       "</table>\n",
       "<p>2488 rows × 2 columns</p>\n",
       "</div>"
      ],
      "text/plain": [
       "                                               Filepath               Label\n",
       "0     data1\\split\\Indian-monuments\\images\\train\\gold...       golden temple\n",
       "1     data1\\split\\Indian-monuments\\images\\train\\Indi...     India gate pics\n",
       "2     data1\\split\\Indian-monuments\\images\\train\\Sun ...   Sun Temple Konark\n",
       "3     data1\\split\\Indian-monuments\\images\\train\\qutu...         qutub_minar\n",
       "4     data1\\split\\Indian-monuments\\images\\train\\jama...  jamali_kamali_tomb\n",
       "...                                                 ...                 ...\n",
       "2483  data1\\split\\Indian-monuments\\images\\train\\jama...  jamali_kamali_tomb\n",
       "2484  data1\\split\\Indian-monuments\\images\\train\\hawa...     hawa mahal pics\n",
       "2485  data1\\split\\Indian-monuments\\images\\train\\Huma...      Humayun_s Tomb\n",
       "2486  data1\\split\\Indian-monuments\\images\\train\\Indi...     India gate pics\n",
       "2487  data1\\split\\Indian-monuments\\images\\train\\Gate...    Gateway of India\n",
       "\n",
       "[2488 rows x 2 columns]"
      ]
     },
     "execution_count": 5,
     "metadata": {},
     "output_type": "execute_result"
    }
   ],
   "source": [
    "train_df"
   ]
  },
  {
   "cell_type": "code",
   "execution_count": 6,
   "metadata": {},
   "outputs": [
    {
     "data": {
      "text/html": [
       "<div>\n",
       "<style scoped>\n",
       "    .dataframe tbody tr th:only-of-type {\n",
       "        vertical-align: middle;\n",
       "    }\n",
       "\n",
       "    .dataframe tbody tr th {\n",
       "        vertical-align: top;\n",
       "    }\n",
       "\n",
       "    .dataframe thead th {\n",
       "        text-align: right;\n",
       "    }\n",
       "</style>\n",
       "<table border=\"1\" class=\"dataframe\">\n",
       "  <thead>\n",
       "    <tr style=\"text-align: right;\">\n",
       "      <th></th>\n",
       "      <th>Filepath</th>\n",
       "      <th>Label</th>\n",
       "    </tr>\n",
       "  </thead>\n",
       "  <tbody>\n",
       "    <tr>\n",
       "      <th>0</th>\n",
       "      <td>data1\\split\\Indian-monuments\\images\\validation...</td>\n",
       "      <td>victoria memorial</td>\n",
       "    </tr>\n",
       "    <tr>\n",
       "      <th>1</th>\n",
       "      <td>data1\\split\\Indian-monuments\\images\\validation...</td>\n",
       "      <td>alai_darwaza</td>\n",
       "    </tr>\n",
       "    <tr>\n",
       "      <th>2</th>\n",
       "      <td>data1\\split\\Indian-monuments\\images\\validation...</td>\n",
       "      <td>charminar</td>\n",
       "    </tr>\n",
       "    <tr>\n",
       "      <th>3</th>\n",
       "      <td>data1\\split\\Indian-monuments\\images\\validation...</td>\n",
       "      <td>charminar</td>\n",
       "    </tr>\n",
       "    <tr>\n",
       "      <th>4</th>\n",
       "      <td>data1\\split\\Indian-monuments\\images\\validation...</td>\n",
       "      <td>alai_minar</td>\n",
       "    </tr>\n",
       "    <tr>\n",
       "      <th>...</th>\n",
       "      <td>...</td>\n",
       "      <td>...</td>\n",
       "    </tr>\n",
       "    <tr>\n",
       "      <th>303</th>\n",
       "      <td>data1\\split\\Indian-monuments\\images\\validation...</td>\n",
       "      <td>jamali_kamali_tomb</td>\n",
       "    </tr>\n",
       "    <tr>\n",
       "      <th>304</th>\n",
       "      <td>data1\\split\\Indian-monuments\\images\\validation...</td>\n",
       "      <td>charminar</td>\n",
       "    </tr>\n",
       "    <tr>\n",
       "      <th>305</th>\n",
       "      <td>data1\\split\\Indian-monuments\\images\\validation...</td>\n",
       "      <td>Gateway of India</td>\n",
       "    </tr>\n",
       "    <tr>\n",
       "      <th>306</th>\n",
       "      <td>data1\\split\\Indian-monuments\\images\\validation...</td>\n",
       "      <td>tajmahal</td>\n",
       "    </tr>\n",
       "    <tr>\n",
       "      <th>307</th>\n",
       "      <td>data1\\split\\Indian-monuments\\images\\validation...</td>\n",
       "      <td>Fatehpur Sikri</td>\n",
       "    </tr>\n",
       "  </tbody>\n",
       "</table>\n",
       "<p>308 rows × 2 columns</p>\n",
       "</div>"
      ],
      "text/plain": [
       "                                              Filepath               Label\n",
       "0    data1\\split\\Indian-monuments\\images\\validation...   victoria memorial\n",
       "1    data1\\split\\Indian-monuments\\images\\validation...        alai_darwaza\n",
       "2    data1\\split\\Indian-monuments\\images\\validation...           charminar\n",
       "3    data1\\split\\Indian-monuments\\images\\validation...           charminar\n",
       "4    data1\\split\\Indian-monuments\\images\\validation...          alai_minar\n",
       "..                                                 ...                 ...\n",
       "303  data1\\split\\Indian-monuments\\images\\validation...  jamali_kamali_tomb\n",
       "304  data1\\split\\Indian-monuments\\images\\validation...           charminar\n",
       "305  data1\\split\\Indian-monuments\\images\\validation...    Gateway of India\n",
       "306  data1\\split\\Indian-monuments\\images\\validation...            tajmahal\n",
       "307  data1\\split\\Indian-monuments\\images\\validation...      Fatehpur Sikri\n",
       "\n",
       "[308 rows x 2 columns]"
      ]
     },
     "execution_count": 6,
     "metadata": {},
     "output_type": "execute_result"
    }
   ],
   "source": [
    "val_df"
   ]
  },
  {
   "cell_type": "code",
   "execution_count": 7,
   "metadata": {},
   "outputs": [
    {
     "data": {
      "text/html": [
       "<div>\n",
       "<style scoped>\n",
       "    .dataframe tbody tr th:only-of-type {\n",
       "        vertical-align: middle;\n",
       "    }\n",
       "\n",
       "    .dataframe tbody tr th {\n",
       "        vertical-align: top;\n",
       "    }\n",
       "\n",
       "    .dataframe thead th {\n",
       "        text-align: right;\n",
       "    }\n",
       "</style>\n",
       "<table border=\"1\" class=\"dataframe\">\n",
       "  <thead>\n",
       "    <tr style=\"text-align: right;\">\n",
       "      <th></th>\n",
       "      <th>Filepath</th>\n",
       "      <th>Label</th>\n",
       "    </tr>\n",
       "  </thead>\n",
       "  <tbody>\n",
       "    <tr>\n",
       "      <th>0</th>\n",
       "      <td>data1\\split\\Indian-monuments\\images\\test\\iron_...</td>\n",
       "      <td>iron_pillar</td>\n",
       "    </tr>\n",
       "    <tr>\n",
       "      <th>1</th>\n",
       "      <td>data1\\split\\Indian-monuments\\images\\test\\golde...</td>\n",
       "      <td>golden temple</td>\n",
       "    </tr>\n",
       "    <tr>\n",
       "      <th>2</th>\n",
       "      <td>data1\\split\\Indian-monuments\\images\\test\\jamal...</td>\n",
       "      <td>jamali_kamali_tomb</td>\n",
       "    </tr>\n",
       "    <tr>\n",
       "      <th>3</th>\n",
       "      <td>data1\\split\\Indian-monuments\\images\\test\\Ajant...</td>\n",
       "      <td>Ajanta Caves</td>\n",
       "    </tr>\n",
       "    <tr>\n",
       "      <th>4</th>\n",
       "      <td>data1\\split\\Indian-monuments\\images\\test\\Fateh...</td>\n",
       "      <td>Fatehpur Sikri</td>\n",
       "    </tr>\n",
       "    <tr>\n",
       "      <th>...</th>\n",
       "      <td>...</td>\n",
       "      <td>...</td>\n",
       "    </tr>\n",
       "    <tr>\n",
       "      <th>317</th>\n",
       "      <td>data1\\split\\Indian-monuments\\images\\test\\iron_...</td>\n",
       "      <td>iron_pillar</td>\n",
       "    </tr>\n",
       "    <tr>\n",
       "      <th>318</th>\n",
       "      <td>data1\\split\\Indian-monuments\\images\\test\\charm...</td>\n",
       "      <td>charminar</td>\n",
       "    </tr>\n",
       "    <tr>\n",
       "      <th>319</th>\n",
       "      <td>data1\\split\\Indian-monuments\\images\\test\\Fateh...</td>\n",
       "      <td>Fatehpur Sikri</td>\n",
       "    </tr>\n",
       "    <tr>\n",
       "      <th>320</th>\n",
       "      <td>data1\\split\\Indian-monuments\\images\\test\\Sun T...</td>\n",
       "      <td>Sun Temple Konark</td>\n",
       "    </tr>\n",
       "    <tr>\n",
       "      <th>321</th>\n",
       "      <td>data1\\split\\Indian-monuments\\images\\test\\Ellor...</td>\n",
       "      <td>Ellora Caves</td>\n",
       "    </tr>\n",
       "  </tbody>\n",
       "</table>\n",
       "<p>322 rows × 2 columns</p>\n",
       "</div>"
      ],
      "text/plain": [
       "                                              Filepath               Label\n",
       "0    data1\\split\\Indian-monuments\\images\\test\\iron_...         iron_pillar\n",
       "1    data1\\split\\Indian-monuments\\images\\test\\golde...       golden temple\n",
       "2    data1\\split\\Indian-monuments\\images\\test\\jamal...  jamali_kamali_tomb\n",
       "3    data1\\split\\Indian-monuments\\images\\test\\Ajant...        Ajanta Caves\n",
       "4    data1\\split\\Indian-monuments\\images\\test\\Fateh...      Fatehpur Sikri\n",
       "..                                                 ...                 ...\n",
       "317  data1\\split\\Indian-monuments\\images\\test\\iron_...         iron_pillar\n",
       "318  data1\\split\\Indian-monuments\\images\\test\\charm...           charminar\n",
       "319  data1\\split\\Indian-monuments\\images\\test\\Fateh...      Fatehpur Sikri\n",
       "320  data1\\split\\Indian-monuments\\images\\test\\Sun T...   Sun Temple Konark\n",
       "321  data1\\split\\Indian-monuments\\images\\test\\Ellor...        Ellora Caves\n",
       "\n",
       "[322 rows x 2 columns]"
      ]
     },
     "execution_count": 7,
     "metadata": {},
     "output_type": "execute_result"
    }
   ],
   "source": [
    "test_df"
   ]
  },
  {
   "cell_type": "code",
   "execution_count": 8,
   "metadata": {},
   "outputs": [
    {
     "data": {
      "text/plain": [
       "24"
      ]
     },
     "execution_count": 8,
     "metadata": {},
     "output_type": "execute_result"
    }
   ],
   "source": [
    "unique_labels = train_df.copy().drop_duplicates(subset=[\"Label\"]).reset_index()\n",
    "train_df[\"Label\"].nunique()"
   ]
  },
  {
   "cell_type": "code",
   "execution_count": 9,
   "metadata": {},
   "outputs": [
    {
     "data": {
      "text/plain": [
       "24"
      ]
     },
     "execution_count": 9,
     "metadata": {},
     "output_type": "execute_result"
    }
   ],
   "source": [
    "val_df[\"Label\"].nunique()"
   ]
  },
  {
   "cell_type": "code",
   "execution_count": 10,
   "metadata": {},
   "outputs": [
    {
     "data": {
      "text/plain": [
       "24"
      ]
     },
     "execution_count": 10,
     "metadata": {},
     "output_type": "execute_result"
    }
   ],
   "source": [
    "test_df[\"Label\"].nunique()"
   ]
  },
  {
   "cell_type": "code",
   "execution_count": 11,
   "metadata": {},
   "outputs": [
    {
     "name": "stdout",
     "output_type": "stream",
     "text": [
      "Found 2488 validated image filenames belonging to 24 classes.\n",
      "Found 308 validated image filenames belonging to 24 classes.\n",
      "Found 322 validated image filenames belonging to 24 classes.\n",
      "Epoch 1/10\n"
     ]
    },
    {
     "name": "stderr",
     "output_type": "stream",
     "text": [
      "C:\\Users\\CHARVI UPRETI\\AppData\\Roaming\\Python\\Python311\\site-packages\\keras\\src\\trainers\\data_adapters\\py_dataset_adapter.py:120: UserWarning: Your `PyDataset` class should call `super().__init__(**kwargs)` in its constructor. `**kwargs` can include `workers`, `use_multiprocessing`, `max_queue_size`. Do not pass these arguments to `fit()`, as they will be ignored.\n",
      "  self._warn_if_super_not_called()\n"
     ]
    },
    {
     "name": "stdout",
     "output_type": "stream",
     "text": [
      "\u001b[1m78/78\u001b[0m \u001b[32m━━━━━━━━━━━━━━━━━━━━\u001b[0m\u001b[37m\u001b[0m \u001b[1m41s\u001b[0m 435ms/step - accuracy: 0.4391 - loss: 2.0987 - val_accuracy: 0.8636 - val_loss: 0.5311\n",
      "Epoch 2/10\n",
      "\u001b[1m78/78\u001b[0m \u001b[32m━━━━━━━━━━━━━━━━━━━━\u001b[0m\u001b[37m\u001b[0m \u001b[1m34s\u001b[0m 412ms/step - accuracy: 0.9107 - loss: 0.3381 - val_accuracy: 0.8994 - val_loss: 0.4223\n",
      "Epoch 3/10\n",
      "\u001b[1m78/78\u001b[0m \u001b[32m━━━━━━━━━━━━━━━━━━━━\u001b[0m\u001b[37m\u001b[0m \u001b[1m34s\u001b[0m 420ms/step - accuracy: 0.9683 - loss: 0.1581 - val_accuracy: 0.9286 - val_loss: 0.2914\n",
      "Epoch 4/10\n",
      "\u001b[1m78/78\u001b[0m \u001b[32m━━━━━━━━━━━━━━━━━━━━\u001b[0m\u001b[37m\u001b[0m \u001b[1m34s\u001b[0m 403ms/step - accuracy: 0.9852 - loss: 0.0711 - val_accuracy: 0.9221 - val_loss: 0.2922\n",
      "Epoch 5/10\n",
      "\u001b[1m78/78\u001b[0m \u001b[32m━━━━━━━━━━━━━━━━━━━━\u001b[0m\u001b[37m\u001b[0m \u001b[1m33s\u001b[0m 400ms/step - accuracy: 0.9952 - loss: 0.0396 - val_accuracy: 0.9221 - val_loss: 0.2992\n",
      "Epoch 6/10\n",
      "\u001b[1m78/78\u001b[0m \u001b[32m━━━━━━━━━━━━━━━━━━━━\u001b[0m\u001b[37m\u001b[0m \u001b[1m34s\u001b[0m 423ms/step - accuracy: 0.9940 - loss: 0.0257 - val_accuracy: 0.9253 - val_loss: 0.3386\n",
      "Epoch 7/10\n",
      "\u001b[1m78/78\u001b[0m \u001b[32m━━━━━━━━━━━━━━━━━━━━\u001b[0m\u001b[37m\u001b[0m \u001b[1m34s\u001b[0m 408ms/step - accuracy: 0.9957 - loss: 0.0255 - val_accuracy: 0.9416 - val_loss: 0.2933\n",
      "Epoch 8/10\n",
      "\u001b[1m78/78\u001b[0m \u001b[32m━━━━━━━━━━━━━━━━━━━━\u001b[0m\u001b[37m\u001b[0m \u001b[1m35s\u001b[0m 413ms/step - accuracy: 0.9988 - loss: 0.0092 - val_accuracy: 0.9318 - val_loss: 0.3387\n",
      "Epoch 9/10\n",
      "\u001b[1m78/78\u001b[0m \u001b[32m━━━━━━━━━━━━━━━━━━━━\u001b[0m\u001b[37m\u001b[0m \u001b[1m37s\u001b[0m 437ms/step - accuracy: 0.9994 - loss: 0.0080 - val_accuracy: 0.9351 - val_loss: 0.2990\n",
      "Epoch 10/10\n",
      "\u001b[1m78/78\u001b[0m \u001b[32m━━━━━━━━━━━━━━━━━━━━\u001b[0m\u001b[37m\u001b[0m \u001b[1m41s\u001b[0m 496ms/step - accuracy: 1.0000 - loss: 0.0047 - val_accuracy: 0.9318 - val_loss: 0.3072\n"
     ]
    }
   ],
   "source": [
    "from tensorflow.keras.applications import MobileNetV2\n",
    "from tensorflow.keras.applications.mobilenet_v2 import preprocess_input\n",
    "from tensorflow.keras.models import Model\n",
    "\n",
    "# Define data generators with preprocessing function for MobileNetV2\n",
    "train_generator = ImageDataGenerator(preprocessing_function=preprocess_input)\n",
    "test_generator = ImageDataGenerator(preprocessing_function=preprocess_input)\n",
    "val_generator = ImageDataGenerator(preprocessing_function=preprocess_input)\n",
    "\n",
    "train_images = train_generator.flow_from_dataframe(\n",
    "    dataframe=train_df,\n",
    "    x_col=\"Filepath\",\n",
    "    y_col=\"Label\",\n",
    "    target_size=(224, 224),\n",
    "    color_mode=\"rgb\",\n",
    "    class_mode=\"categorical\",\n",
    "    batch_size=32,\n",
    "    shuffle=True,\n",
    "    seed=0,\n",
    "    rotation_range=30,\n",
    "    width_shift_range=0.2,\n",
    "    height_shift_range=0.2,\n",
    "    shear_range=0.15,\n",
    "    zoom_range=0.15,\n",
    "    horizontal_flip=True,\n",
    "    vertical_flip=True,\n",
    "    fill_mode=\"nearest\",\n",
    ")\n",
    "\n",
    "val_images = val_generator.flow_from_dataframe(\n",
    "    dataframe=val_df,\n",
    "    x_col=\"Filepath\",\n",
    "    y_col=\"Label\",\n",
    "    target_size=(224, 224),\n",
    "    color_mode=\"rgb\",\n",
    "    class_mode=\"categorical\",\n",
    "    batch_size=32,\n",
    "    shuffle=True,\n",
    "    seed=0,\n",
    "    rotation_range=30,\n",
    "    width_shift_range=0.2,\n",
    "    height_shift_range=0.2,\n",
    "    shear_range=0.15,\n",
    "    zoom_range=0.15,\n",
    "    horizontal_flip=True,\n",
    "    vertical_flip=True,\n",
    "    fill_mode=\"nearest\",\n",
    ")\n",
    "\n",
    "test_images = test_generator.flow_from_dataframe(\n",
    "    dataframe=test_df,\n",
    "    x_col=\"Filepath\",\n",
    "    y_col=\"Label\",\n",
    "    target_size=(224, 224),\n",
    "    color_mode=\"rgb\",\n",
    "    class_mode=\"categorical\",\n",
    "    batch_size=32,\n",
    "    shuffle=False,\n",
    ")\n",
    "\n",
    "base_model = MobileNetV2(\n",
    "    weights=\"imagenet\", include_top=False, pooling=\"avg\", input_shape=(224, 224, 3)\n",
    ")\n",
    "base_model.trainable = False\n",
    "\n",
    "\n",
    "# adding custom head\n",
    "\n",
    "x = base_model.output\n",
    "x = Dense(128, activation=\"relu\")(x)\n",
    "x = Dense(128, activation=\"relu\")(x)\n",
    "predictions = Dense(train_df[\"Label\"].nunique(), activation=\"softmax\")(x)\n",
    "model = Model(inputs=base_model.input, outputs=predictions)\n",
    "model.compile(optimizer=\"adam\", loss=\"categorical_crossentropy\", metrics=[\"accuracy\"])\n",
    "\n",
    "history = model.fit(train_images, validation_data=val_images, epochs=10, verbose=1)\n",
    "\n",
    "predicted_labels = model.predict(test_images)\n",
    "label_mapping = {v: k for k, v in train_images.class_indices.items()}\n",
    "\n",
    "# Convert predicted labels to class names\n",
    "predicted_classes = [label_mapping[np.argmax(label)] for label in predicted_labels]\n",
    "\n",
    "# Convert true labels to class names\n",
    "true_classes = [label_mapping[label] for label in test_images.labels]\n",
    "\n",
    "for i in range(10):\n",
    "    print(f\"True label: {true_classes[i]}, Predicted label: {predicted_classes[i]}\")\n",
    "\n",
    "from sklearn.metrics import accuracy_score\n",
    "\n",
    "acc = accuracy_score(true_classes, predicted_classes)\n",
    "print(f\"Accuracy: {100 * acc:.2f}%\")"
   ]
  },
  {
   "cell_type": "code",
   "execution_count": 12,
   "metadata": {},
   "outputs": [
    {
     "data": {
      "image/png": "[encoded data removed]",
      "text/plain": [
       "<Figure size 640x480 with 1 Axes>"
      ]
     },
     "metadata": {},
     "output_type": "display_data"
    }
   ],
   "source": [
    "plt.plot(history.history[\"loss\"], color=\"red\", label=\"train\")\n",
    "plt.plot(history.history[\"val_loss\"], color=\"blue\", label=\"validation\")\n",
    "plt.legend()\n",
    "plt.show()"
   ]
  },
  {
   "cell_type": "code",
   "execution_count": 13,
   "metadata": {},
   "outputs": [
    {
     "data": {
      "image/png": "[encoded data removed]",
      "text/plain": [
       "<Figure size 640x480 with 1 Axes>"
      ]
     },
     "metadata": {},
     "output_type": "display_data"
    }
   ],
   "source": [
    "plt.plot(history.history[\"accuracy\"], color=\"red\", label=\"train\")\n",
    "plt.plot(history.history[\"val_accuracy\"], color=\"blue\", label=\"validation\")\n",
    "plt.legend()\n",
    "plt.show()"
   ]
  },
  {
   "cell_type": "code",
   "execution_count": 21,
   "metadata": {},
   "outputs": [
    {
     "data": {
      "text/plain": [
       "{0: 'Ajanta Caves',\n",
       " 1: 'Charar-E- Sharif',\n",
       " 2: 'Chhota_Imambara',\n",
       " 3: 'Ellora Caves',\n",
       " 4: 'Fatehpur Sikri',\n",
       " 5: 'Gateway of India',\n",
       " 6: 'Humayun_s Tomb',\n",
       " 7: 'India gate pics',\n",
       " 8: 'Khajuraho',\n",
       " 9: 'Sun Temple Konark',\n",
       " 10: 'alai_darwaza',\n",
       " 11: 'alai_minar',\n",
       " 12: 'basilica_of_bom_jesus',\n",
       " 13: 'charminar',\n",
       " 14: 'golden temple',\n",
       " 15: 'hawa mahal pics',\n",
       " 16: 'iron_pillar',\n",
       " 17: 'jamali_kamali_tomb',\n",
       " 18: 'lotus_temple',\n",
       " 19: 'mysore_palace',\n",
       " 20: 'qutub_minar',\n",
       " 21: 'tajmahal',\n",
       " 22: 'tanjavur temple',\n",
       " 23: 'victoria memorial'}"
      ]
     },
     "execution_count": 21,
     "metadata": {},
     "output_type": "execute_result"
    }
   ],
   "source": [
    "label_mapping"
   ]
  },
  {
   "cell_type": "code",
   "execution_count": 15,
   "metadata": {},
   "outputs": [
    {
     "name": "stdout",
     "output_type": "stream",
     "text": [
      "\u001b[1m11/11\u001b[0m \u001b[32m━━━━━━━━━━━━━━━━━━━━\u001b[0m\u001b[37m\u001b[0m \u001b[1m6s\u001b[0m 434ms/step\n",
      "True label: iron_pillar, Predicted label: iron_pillar\n",
      "True label: golden temple, Predicted label: golden temple\n",
      "True label: jamali_kamali_tomb, Predicted label: tajmahal\n",
      "True label: Ajanta Caves, Predicted label: Ajanta Caves\n",
      "True label: Fatehpur Sikri, Predicted label: Fatehpur Sikri\n",
      "True label: Gateway of India, Predicted label: Gateway of India\n",
      "True label: qutub_minar, Predicted label: qutub_minar\n",
      "True label: Humayun_s Tomb, Predicted label: Humayun_s Tomb\n",
      "True label: mysore_palace, Predicted label: mysore_palace\n",
      "True label: victoria memorial, Predicted label: victoria memorial\n",
      "Accuracy: 95.34%\n"
     ]
    }
   ],
   "source": [
    "predicted_labels = model.predict(test_images)\n",
    "label_mapping = {v: k for k, v in train_images.class_indices.items()}\n",
    "\n",
    "# Convert predicted labels to class names\n",
    "predicted_classes = [label_mapping[np.argmax(label)] for label in predicted_labels]\n",
    "\n",
    "# Convert true labels to class names\n",
    "true_classes = [label_mapping[label] for label in test_images.labels]\n",
    "\n",
    "for i in range(10):\n",
    "    print(f\"True label: {true_classes[i]}, Predicted label: {predicted_classes[i]}\")\n",
    "\n",
    "from sklearn.metrics import accuracy_score\n",
    "\n",
    "acc = accuracy_score(true_classes, predicted_classes)\n",
    "print(f\"Accuracy: {100 * acc:.2f}%\")"
   ]
  },
  {
   "cell_type": "code",
   "execution_count": 22,
   "metadata": {},
   "outputs": [],
   "source": [
    "import pickle\n",
    "\n",
    "# Save label mapping\n",
    "with open(\"label_mapping.pkl\", \"wb\") as f:\n",
    "    pickle.dump(label_mapping, f)"
   ]
  },
  {
   "cell_type": "code",
   "execution_count": 23,
   "metadata": {},
   "outputs": [
    {
     "data": {
      "image/png": "[encoded data removed]",
      "text/plain": [
       "<Figure size 640x480 with 1 Axes>"
      ]
     },
     "metadata": {},
     "output_type": "display_data"
    }
   ],
   "source": [
    "import matplotlib.pyplot as plt\n",
    "\n",
    "# Save training history\n",
    "with open(\"training_history.pkl\", \"wb\") as f:\n",
    "    pickle.dump(history.history, f)\n",
    "\n",
    "# Visualize training history\n",
    "plt.plot(history.history[\"accuracy\"], label=\"accuracy\")\n",
    "plt.plot(history.history[\"val_accuracy\"], label=\"val_accuracy\")\n",
    "plt.xlabel(\"Epoch\")\n",
    "plt.ylabel(\"Accuracy\")\n",
    "plt.legend(loc=\"lower right\")\n",
    "plt.show()"
   ]
  },
  {
   "cell_type": "code",
   "execution_count": 16,
   "metadata": {},
   "outputs": [
    {
     "data": {
      "text/plain": [
       "array([[6.1545733e-09, 1.7173469e-09, 9.8331228e-13, ..., 2.0937395e-10,\n",
       "        1.2116215e-08, 2.9851569e-13],\n",
       "       [4.4058834e-10, 7.1160270e-05, 3.7703802e-07, ..., 4.9128039e-06,\n",
       "        4.3800705e-07, 7.0754832e-06],\n",
       "       [2.1478602e-04, 3.8859656e-04, 3.1879841e-04, ..., 5.0161684e-01,\n",
       "        1.9461420e-05, 2.4103497e-04],\n",
       "       ...,\n",
       "       [8.0004436e-05, 1.3904857e-04, 3.4722825e-06, ..., 3.7558441e-06,\n",
       "        4.0307161e-03, 2.1941692e-07],\n",
       "       [1.5790325e-06, 9.3066221e-09, 2.6890565e-10, ..., 1.9452341e-07,\n",
       "        4.2071109e-04, 1.2717807e-06],\n",
       "       [3.9016133e-05, 2.4103468e-08, 1.9063555e-12, ..., 8.8220267e-09,\n",
       "        1.6326537e-07, 3.3141068e-10]], dtype=float32)"
      ]
     },
     "execution_count": 16,
     "metadata": {},
     "output_type": "execute_result"
    }
   ],
   "source": [
    "predicted_labels"
   ]
  },
  {
   "cell_type": "code",
   "execution_count": 17,
   "metadata": {},
   "outputs": [
    {
     "name": "stdout",
     "output_type": "stream",
     "text": [
      "Predicted classes saved to predicted_classes.txt\n"
     ]
    }
   ],
   "source": [
    "# Define the file path to save the predicted classes\n",
    "output_file = \"predicted_classes.txt\"\n",
    "\n",
    "# Write the predicted classes to the file\n",
    "with open(output_file, \"w\") as file:\n",
    "    for predicted_class in predicted_classes:\n",
    "        file.write(predicted_class + \"\\n\")\n",
    "\n",
    "print(\"Predicted classes saved to\", output_file)"
   ]
  },
  {
   "cell_type": "code",
   "execution_count": null,
   "metadata": {},
   "outputs": [],
   "source": [
    "model.save(f\"model_with_mobilenetv2_{100 * acc:.2f}.h5\")"
   ]
  },
  {
   "cell_type": "code",
   "execution_count": null,
   "metadata": {},
   "outputs": [],
   "source": [
    "import keras\n",
    "\n",
    "keras.saving.save_model(model, f\"model_with_mobilenetv2_{100 * acc:.2f}.keras\")"
   ]
  },
  {
   "cell_type": "code",
   "execution_count": null,
   "metadata": {},
   "outputs": [],
   "source": [
    "import pickle\n",
    "\n",
    "with open(\"label_mapping.pkl\", \"wb\") as f:\n",
    "    pickle.dump(label_mapping, f)\n",
    "\n",
    "print(\"Label mapping saved successfully.\")"
   ]
  }
 ],
 "metadata": {
  "kernelspec": {
   "display_name": "base",
   "language": "python",
   "name": "python3"
  },
  "language_info": {
   "codemirror_mode": {
    "name": "ipython",
    "version": 3
   },
   "file_extension": ".py",
   "mimetype": "text/x-python",
   "name": "python",
   "nbconvert_exporter": "python",
   "pygments_lexer": "ipython3",
   "version": "3.11.7"
  }
 },
 "nbformat": 4,
 "nbformat_minor": 2
}
