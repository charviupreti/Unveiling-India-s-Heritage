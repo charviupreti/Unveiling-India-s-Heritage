{
 "cells": [
  {
   "cell_type": "code",
   "execution_count": null,
   "metadata": {},
   "outputs": [],
   "source": [
    "# Ran once and formed the \\data1\\split folder.\n",
    "# import os\n",
    "# import shutil\n",
    "# import random\n",
    "\n",
    "# # Define data directory\n",
    "# data_dir = \"data1/Indian-monuments/images\"\n",
    "# train_dir = \"data1/split/Indian-monuments/images/train\"\n",
    "# val_dir = \"data1/split/Indian-monuments/images/validation\"\n",
    "# test_dir = \"data1/split/Indian-monuments/images/test\"\n",
    "\n",
    "# # Create directories for train, validation, and test sets if they don't exist\n",
    "# os.makedirs(train_dir, exist_ok=True)\n",
    "# os.makedirs(val_dir, exist_ok=True)\n",
    "# os.makedirs(test_dir, exist_ok=True)\n",
    "\n",
    "# # Define the ratio for splitting the data\n",
    "# train_ratio = 0.8\n",
    "# val_ratio = 0.1\n",
    "# test_ratio = 0.1\n",
    "\n",
    "# # Get the list of class directories\n",
    "# class_directories = [\n",
    "#     directory\n",
    "#     for directory in os.listdir(data_dir)\n",
    "#     if os.path.isdir(os.path.join(data_dir, directory))\n",
    "# ]\n",
    "\n",
    "# # Iterate over each class directory\n",
    "# for class_dir in class_directories:\n",
    "#     # Get the list of image filenames for the current class\n",
    "#     class_images = os.listdir(os.path.join(data_dir, class_dir))\n",
    "#     # Shuffle the list of image filenames\n",
    "#     random.shuffle(class_images)\n",
    "\n",
    "#     # Calculate the number of images for each subset\n",
    "#     num_train = int(len(class_images) * train_ratio)\n",
    "#     num_val = int(len(class_images) * val_ratio)\n",
    "#     num_test = len(class_images) - num_train - num_val\n",
    "\n",
    "#     # Split the images into train, validation, and test sets\n",
    "#     train_images = class_images[:num_train]\n",
    "#     val_images = class_images[num_train : num_train + num_val]\n",
    "#     test_images = class_images[num_train + num_val :]\n",
    "\n",
    "#     # Copy images to their respective directories\n",
    "#     for image in train_images:\n",
    "#         src = os.path.join(data_dir, class_dir, image)\n",
    "#         dst = os.path.join(train_dir, class_dir, image)\n",
    "#         os.makedirs(os.path.dirname(dst), exist_ok=True)\n",
    "#         shutil.copyfile(src, dst)\n",
    "\n",
    "#     for image in val_images:\n",
    "#         src = os.path.join(data_dir, class_dir, image)\n",
    "#         dst = os.path.join(val_dir, class_dir, image)\n",
    "#         os.makedirs(os.path.dirname(dst), exist_ok=True)\n",
    "#         shutil.copyfile(src, dst)\n",
    "\n",
    "#     for image in test_images:\n",
    "#         src = os.path.join(data_dir, class_dir, image)\n",
    "#         dst = os.path.join(test_dir, class_dir, image)\n",
    "#         os.makedirs(os.path.dirname(dst), exist_ok=True)\n",
    "#         shutil.copyfile(src, dst)\n",
    "\n",
    "# # Now you can use the directories train_dir, val_dir, and test_dir for training, validation, and testing respectively."
   ]
  },
  {
   "cell_type": "code",
   "execution_count": null,
   "metadata": {},
   "outputs": [],
   "source": [
    "import os\n",
    "from tensorflow.keras.preprocessing.image import ImageDataGenerator\n",
    "from tensorflow.keras.layers import GlobalAveragePooling2D, Dense\n",
    "from tensorflow.keras.models import Sequential\n",
    "from tensorflow.keras.applications import MobileNetV2\n",
    "import matplotlib.pyplot as plt\n",
    "import numpy as np\n",
    "from pathlib import Path\n",
    "import pandas as pd"
   ]
  },
  {
   "cell_type": "code",
   "execution_count": null,
   "metadata": {},
   "outputs": [],
   "source": [
    "train_dir = Path(\"data1/split/Indian-monuments/images/train\")\n",
    "train_filepaths = (\n",
    "    list(train_dir.glob(\"**/*.jpg\"))\n",
    "    + list(train_dir.glob(\"*.jpeg\"))\n",
    "    + list(train_dir.glob(\"*.png\"))\n",
    ")\n",
    "val_dir = Path(\"data1/split/Indian-monuments/images/validation\")\n",
    "val_filepaths = (\n",
    "    list(val_dir.glob(\"**/*.jpg\"))\n",
    "    + list(val_dir.glob(\"*.jpeg\"))\n",
    "    + list(val_dir.glob(\"*.png\"))\n",
    ")\n",
    "test_dir = Path(\"data1/split/Indian-monuments/images/test\")\n",
    "test_filepaths = (\n",
    "    list(test_dir.glob(\"**/*.jpg\"))\n",
    "    + list(test_dir.glob(\"*.jpeg\"))\n",
    "    + list(test_dir.glob(\"*.png\"))\n",
    ")"
   ]
  },
  {
   "cell_type": "code",
   "execution_count": null,
   "metadata": {},
   "outputs": [],
   "source": [
    "def proc_img(filepath):\n",
    "    labels = [str(filepath[i]).split(\"\\\\\")[-2] for i in range(len(filepath))]\n",
    "    print(labels)\n",
    "    filepath = pd.Series(filepath, name=\"Filepath\").astype(str)\n",
    "    labels = pd.Series(labels, name=\"Label\")\n",
    "    df = pd.concat([filepath, labels], axis=1)\n",
    "    df = df.sample(frac=1, random_state=42).reset_index(drop=True)\n",
    "    return df\n",
    "\n",
    "\n",
    "train_df = proc_img(train_filepaths)\n",
    "val_df = proc_img(val_filepaths)\n",
    "test_df = proc_img(test_filepaths)"
   ]
  },
  {
   "cell_type": "code",
   "execution_count": null,
   "metadata": {},
   "outputs": [],
   "source": [
    "pd.set_option(\"display.max_rows\", None)\n",
    "pd.set_option(\"display.max_columns\", None)\n",
    "pd.set_option(\"display.max_colwidth\", None)"
   ]
  },
  {
   "cell_type": "code",
   "execution_count": null,
   "metadata": {},
   "outputs": [],
   "source": [
    "unique_labels = train_df.copy().drop_duplicates(subset=[\"Label\"]).reset_index()\n",
    "train_df[\"Label\"].nunique()"
   ]
  },
  {
   "cell_type": "code",
   "execution_count": null,
   "metadata": {},
   "outputs": [],
   "source": [
    "val_df[\"Label\"].nunique()"
   ]
  },
  {
   "cell_type": "code",
   "execution_count": null,
   "metadata": {},
   "outputs": [],
   "source": [
    "test_df[\"Label\"].nunique()"
   ]
  },
  {
   "cell_type": "code",
   "execution_count": null,
   "metadata": {},
   "outputs": [],
   "source": [
    "from tensorflow.keras.applications import ResNet50\n",
    "from tensorflow.keras.applications.mobilenet_v2 import preprocess_input\n",
    "from tensorflow.keras.models import Model\n",
    "\n",
    "# Define data generators with preprocessing function for MobileNetV2\n",
    "train_generator = ImageDataGenerator(preprocessing_function=preprocess_input)\n",
    "test_generator = ImageDataGenerator(preprocessing_function=preprocess_input)\n",
    "val_generator = ImageDataGenerator(preprocessing_function=preprocess_input)\n",
    "\n",
    "train_images = train_generator.flow_from_dataframe(\n",
    "    dataframe=train_df,\n",
    "    x_col=\"Filepath\",\n",
    "    y_col=\"Label\",\n",
    "    target_size=(224, 224),\n",
    "    color_mode=\"rgb\",\n",
    "    class_mode=\"categorical\",\n",
    "    batch_size=32,\n",
    "    shuffle=True,\n",
    "    seed=0,\n",
    "    rotation_range=30,\n",
    "    width_shift_range=0.2,\n",
    "    height_shift_range=0.2,\n",
    "    shear_range=0.15,\n",
    "    zoom_range=0.15,\n",
    "    horizontal_flip=True,\n",
    "    vertical_flip=True,\n",
    "    fill_mode=\"nearest\",\n",
    ")\n",
    "\n",
    "val_images = val_generator.flow_from_dataframe(\n",
    "    dataframe=val_df,\n",
    "    x_col=\"Filepath\",\n",
    "    y_col=\"Label\",\n",
    "    target_size=(224, 224),\n",
    "    color_mode=\"rgb\",\n",
    "    class_mode=\"categorical\",\n",
    "    batch_size=32,\n",
    "    shuffle=True,\n",
    "    seed=0,\n",
    "    rotation_range=30,\n",
    "    width_shift_range=0.2,\n",
    "    height_shift_range=0.2,\n",
    "    shear_range=0.15,\n",
    "    zoom_range=0.15,\n",
    "    horizontal_flip=True,\n",
    "    vertical_flip=True,\n",
    "    fill_mode=\"nearest\",\n",
    ")\n",
    "\n",
    "test_images = test_generator.flow_from_dataframe(\n",
    "    dataframe=test_df,\n",
    "    x_col=\"Filepath\",\n",
    "    y_col=\"Label\",\n",
    "    target_size=(224, 224),\n",
    "    color_mode=\"rgb\",\n",
    "    class_mode=\"categorical\",\n",
    "    batch_size=32,\n",
    "    shuffle=False,\n",
    ")\n",
    "\n",
    "base_model = ResNet50(\n",
    "    weights=\"imagenet\", include_top=False, pooling=\"avg\", input_shape=(224, 224, 3)\n",
    ")\n",
    "base_model.trainable = False\n",
    "\n",
    "\n",
    "# adding custom head\n",
    "\n",
    "x = base_model.output\n",
    "x = Dense(128, activation=\"relu\")(x)\n",
    "x = Dense(128, activation=\"relu\")(x)\n",
    "predictions = Dense(train_df[\"Label\"].nunique(), activation=\"softmax\")(x)\n",
    "model = Model(inputs=base_model.input, outputs=predictions)\n",
    "model.compile(optimizer=\"adam\", loss=\"categorical_crossentropy\", metrics=[\"accuracy\"])\n",
    "\n",
    "history = model.fit(train_images, validation_data=val_images, epochs=30, verbose=1)"
   ]
  },
  {
   "cell_type": "code",
   "execution_count": null,
   "metadata": {},
   "outputs": [],
   "source": [
    "plt.plot(history.history[\"loss\"], color=\"red\", label=\"train\")\n",
    "plt.plot(history.history[\"val_loss\"], color=\"blue\", label=\"validation\")\n",
    "plt.legend()\n",
    "plt.show()"
   ]
  },
  {
   "cell_type": "code",
   "execution_count": null,
   "metadata": {},
   "outputs": [],
   "source": [
    "plt.plot(history.history[\"accuracy\"], color=\"red\", label=\"train\")\n",
    "plt.plot(history.history[\"val_accuracy\"], color=\"blue\", label=\"validation\")\n",
    "plt.legend()\n",
    "plt.show()"
   ]
  },
  {
   "cell_type": "code",
   "execution_count": null,
   "metadata": {},
   "outputs": [],
   "source": [
    "predicted_labels = model.predict(test_images)\n",
    "label_mapping = {v: k for k, v in train_images.class_indices.items()}\n",
    "\n",
    "# Convert predicted labels to class names\n",
    "predicted_classes = [label_mapping[np.argmax(label)] for label in predicted_labels]\n",
    "\n",
    "# Convert true labels to class names\n",
    "true_classes = [label_mapping[label] for label in test_images.labels]\n",
    "\n",
    "for i in range(10):\n",
    "    print(f\"True label: {true_classes[i]}, Predicted label: {predicted_classes[i]}\")\n",
    "\n",
    "from sklearn.metrics import accuracy_score\n",
    "\n",
    "acc = accuracy_score(true_classes, predicted_classes)\n",
    "print(f\"Accuracy: {100 * acc:.2f}%\")"
   ]
  },
  {
   "cell_type": "code",
   "execution_count": null,
   "metadata": {},
   "outputs": [],
   "source": [
    "# Define the file path to save the predicted classes\n",
    "output_file = \"predicted_classes.txt\"\n",
    "\n",
    "# Write the predicted classes to the file\n",
    "with open(output_file, \"w\") as file:\n",
    "    for predicted_class in predicted_classes:\n",
    "        file.write(predicted_class + \"\\n\")\n",
    "\n",
    "print(\"Predicted classes saved to\", output_file)"
   ]
  },
  {
   "cell_type": "code",
   "execution_count": null,
   "metadata": {},
   "outputs": [],
   "source": [
    "model.save(f\"model_with_resnetv2_{100 * acc:.2f}.h5\")"
   ]
  },
  {
   "cell_type": "code",
   "execution_count": null,
   "metadata": {},
   "outputs": [],
   "source": [
    "import keras\n",
    "\n",
    "\n",
    "keras.saving.save_model(model, f\"model_with_v2resnet_{100 * acc:.2f}.keras\")"
   ]
  },
  {
   "cell_type": "code",
   "execution_count": null,
   "metadata": {},
   "outputs": [],
   "source": [
    "import pickle\n",
    "\n",
    "with open(\"label_mapping.pkl\", \"wb\") as f:\n",
    "    pickle.dump(label_mapping, f)\n",
    "\n",
    "print(\"Label mapping saved successfully.\")"
   ]
  },
  {
   "cell_type": "code",
   "execution_count": null,
   "metadata": {},
   "outputs": [],
   "source": [
    "model.summary()"
   ]
  },
  {
   "cell_type": "code",
   "execution_count": null,
   "metadata": {},
   "outputs": [],
   "source": []
  }
 ],
 "metadata": {
  "kernelspec": {
   "display_name": "base",
   "language": "python",
   "name": "python3"
  },
  "language_info": {
   "codemirror_mode": {
    "name": "ipython",
    "version": 3
   },
   "file_extension": ".py",
   "mimetype": "text/x-python",
   "name": "python",
   "nbconvert_exporter": "python",
   "pygments_lexer": "ipython3",
   "version": "3.11.7"
  }
 },
 "nbformat": 4,
 "nbformat_minor": 2
}
